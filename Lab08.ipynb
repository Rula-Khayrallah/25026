{
 "cells": [
  {
   "cell_type": "markdown",
   "source": [
    "# Name\n",
    "Please replace this line with your name."
   ],
   "metadata": {
    "collapsed": false
   }
  },
  {
   "cell_type": "markdown",
   "metadata": {},
   "source": [
    "# Magic Methods"
   ]
  },
  {
   "cell_type": "markdown",
   "metadata": {},
   "source": [
    "## String Representation"
   ]
  },
  {
   "cell_type": "code",
   "execution_count": null,
   "metadata": {
    "pycharm": {
     "is_executing": true
    }
   },
   "outputs": [],
   "source": [
    "class Account:\n",
    "\n",
    "    \"\"\"\n",
    "    Represent a bank account.\n",
    "\n",
    "    Argument:\n",
    "    account_holder (string): account holder's name.\n",
    "\n",
    "    Attributes:\n",
    "    holder (string): account holder's name.\n",
    "    balance (number): account balance in dollars.\n",
    "    \"\"\"\n",
    "\n",
    "    currency = '$' # class variable\n",
    "\n",
    "    def __init__(self, account_holder):\n",
    "        self.holder = account_holder\n",
    "        self.balance = 0\n",
    "\n",
    "    def deposit(self, amount):\n",
    "        \"\"\"\n",
    "        Deposit the given amount to the account.\n",
    "        :param amount: (number) the amount to be deposited in dollars.\n",
    "        \"\"\"\n",
    "        self.balance += amount\n",
    "\n",
    "    def withdraw(self, amount):\n",
    "        \"\"\"\n",
    "        Withdraw the specified amount from the account if possible.\n",
    "        :param amount: (number) the amount to be withdrawn in dollars.\n",
    "        :return: (boolean) True if the withdrawal is successful\n",
    "                False otherwise\n",
    "        \"\"\"\n",
    "        if self.balance >= amount:\n",
    "            self.balance = self.balance - amount\n",
    "            return True\n",
    "        else:\n",
    "            return False\n"
   ]
  },
  {
   "cell_type": "markdown",
   "metadata": {},
   "source": [
    "Instantiate an account with Anna as the account holder and print it."
   ]
  },
  {
   "cell_type": "code",
   "execution_count": null,
   "metadata": {
    "pycharm": {
     "is_executing": true
    }
   },
   "outputs": [],
   "source": [
    "her_account = Account('Anna')\n",
    "print(her_account)"
   ]
  },
  {
   "cell_type": "markdown",
   "metadata": {},
   "source": [
    "Let's look at the string representation of the object:"
   ]
  },
  {
   "cell_type": "code",
   "execution_count": null,
   "metadata": {
    "pycharm": {
     "is_executing": true
    }
   },
   "outputs": [],
   "source": [
    "str(her_account)"
   ]
  },
  {
   "cell_type": "markdown",
   "metadata": {},
   "source": [
    "We would like the name and balance to be printed as shown below when we print(her_account)\n",
    "\n",
    "Name: Anna\n",
    "\n",
    "Balance: $0.00\n",
    "\n",
    "To do that, we need to add an __ str __ magic method to the Account class definition below:"
   ]
  },
  {
   "cell_type": "code",
   "execution_count": null,
   "metadata": {
    "pycharm": {
     "is_executing": true
    }
   },
   "outputs": [],
   "source": [
    "class Account:\n",
    "\n",
    "    \"\"\"\n",
    "    Represent a bank account.\n",
    "\n",
    "    Argument:\n",
    "    account_holder (string): account holder's name.\n",
    "\n",
    "    Attributes:\n",
    "    holder (string): account holder's name.\n",
    "    balance (number): account balance in dollars.\n",
    "    \"\"\"\n",
    "\n",
    "    currency = '$' # class variable\n",
    "\n",
    "    def __init__(self, account_holder):\n",
    "        self.holder = account_holder\n",
    "        self.balance = 0\n",
    "\n",
    "    def __str__(self):\n",
    "        # Your code here\n",
    "\n",
    "    def deposit(self, amount):\n",
    "        \"\"\"\n",
    "        Deposit the given amount to the account.\n",
    "        :param amount: (number) the amount to be deposited in dollars.\n",
    "        \"\"\"\n",
    "        self.balance += amount\n",
    "\n",
    "    def withdraw(self, amount):\n",
    "        \"\"\"\n",
    "        Withdraw the specified amount from the account if possible.\n",
    "        :param amount: (number) the amount to be withdrawn in dollars.\n",
    "        :return: (boolean) True if the withdrawal is successful\n",
    "                False otherwise\n",
    "        \"\"\"\n",
    "        if self.balance >= amount:\n",
    "            self.balance = self.balance - amount\n",
    "            return True\n",
    "        else:\n",
    "            return False\n"
   ]
  },
  {
   "cell_type": "markdown",
   "metadata": {},
   "source": [
    "\n",
    "Let's see what we get now."
   ]
  },
  {
   "cell_type": "code",
   "execution_count": null,
   "metadata": {
    "pycharm": {
     "is_executing": true
    }
   },
   "outputs": [],
   "source": [
    "her_account = Account('Anna')\n",
    "print(her_account)\n",
    "her_account.deposit(5000)\n",
    "print(her_account)\n",
    "str(her_account)\n"
   ]
  },
  {
   "cell_type": "markdown",
   "metadata": {},
   "source": [
    "## Rich Comparison Methods\n",
    "Implement the __ lt __ magic method below to specify the behavior of the < operator on Account objects.\n"
   ]
  },
  {
   "cell_type": "code",
   "execution_count": null,
   "metadata": {
    "pycharm": {
     "is_executing": true
    }
   },
   "outputs": [],
   "source": [
    "class Account:\n",
    "\n",
    "    \"\"\"\n",
    "    Represent a bank account.\n",
    "\n",
    "    Argument:\n",
    "    account_holder (string): account holder's name.\n",
    "\n",
    "    Attributes:\n",
    "    holder (string): account holder's name.\n",
    "    balance (number): account balance in dollars.\n",
    "    \"\"\"\n",
    "\n",
    "    currency = '$' # class variable\n",
    "\n",
    "    def __init__(self, account_holder):\n",
    "        self.holder = account_holder\n",
    "        self.balance = 0\n",
    "\n",
    "    def __lt__(self, other):\n",
    "        # Your code here\n",
    "\n",
    "    def deposit(self, amount):\n",
    "        \"\"\"\n",
    "        Deposit the given amount to the account.\n",
    "        :param amount: (number) the amount to be deposited in dollars.\n",
    "        \"\"\"\n",
    "        self.balance += amount\n",
    "\n",
    "    def withdraw(self, amount):\n",
    "        \"\"\"\n",
    "        Withdraw the specified amount from the account if possible.\n",
    "        :param amount: (number) the amount to be withdrawn in dollars.\n",
    "        :return: (boolean) True if the withdrawal is successful\n",
    "                False otherwise\n",
    "        \"\"\"\n",
    "        if self.balance >= amount:\n",
    "            self.balance = self.balance - amount\n",
    "            return True\n",
    "        else:\n",
    "            return False\n"
   ]
  },
  {
   "cell_type": "markdown",
   "metadata": {},
   "source": [
    "Now try the following:"
   ]
  },
  {
   "cell_type": "code",
   "execution_count": null,
   "metadata": {
    "pycharm": {
     "is_executing": true
    }
   },
   "outputs": [],
   "source": [
    "her_account = Account('Anna')\n",
    "her_account.deposit(5000)\n",
    "his_account = Account('Ryan')\n",
    "his_account < her_account"
   ]
  },
  {
   "cell_type": "markdown",
   "metadata": {},
   "source": [
    "How about:\n"
   ]
  },
  {
   "cell_type": "code",
   "execution_count": null,
   "metadata": {
    "pycharm": {
     "is_executing": true
    }
   },
   "outputs": [],
   "source": [
    "her_account < his_account"
   ]
  },
  {
   "cell_type": "markdown",
   "metadata": {},
   "source": [
    "Go back to the Account class definition and implement the __ eq __ magic method to specify the behavior of the == operator on Account objects.  Rerun the class definition to update it then run the code cell below.\n",
    "\n"
   ]
  },
  {
   "cell_type": "code",
   "execution_count": null,
   "metadata": {
    "pycharm": {
     "is_executing": true
    }
   },
   "outputs": [],
   "source": [
    "first_account = Account('Anna')\n",
    "first_account.deposit(100)\n",
    "second_account = Account('Anna')\n",
    "second_account.deposit(20)\n",
    "second_account.deposit(80)\n",
    "first_account == second_account"
   ]
  },
  {
   "cell_type": "markdown",
   "metadata": {},
   "source": [
    "## Arithmetic Operators Methods\n"
   ]
  },
  {
   "cell_type": "markdown",
   "metadata": {},
   "source": [
    "Implement the __ add __ magic method in the Account class definition below to specify the behavior of the + operator on Account objects.\n"
   ]
  },
  {
   "cell_type": "code",
   "execution_count": null,
   "metadata": {},
   "outputs": [],
   "source": [
    "class Account:\n",
    "    \"\"\"\n",
    "    Represent a bank account.\n",
    "\n",
    "    Argument:\n",
    "    account_holder (string): account holder's name.\n",
    "\n",
    "    Attributes:\n",
    "    holder (string): account holder's name.\n",
    "    balance (number): account balance in dollars.\n",
    "    \"\"\"\n",
    "\n",
    "    currency = '$'  # class variable\n",
    "\n",
    "    def __init__(self, account_holder):\n",
    "        self.holder = account_holder\n",
    "        self.balance = 0\n",
    "\n",
    "    def __str__(self):\n",
    "        return f'Name: {self.holder}\\nBalance: ${self.balance:,.2f}'\n",
    "\n",
    "    def __add__(self, other):\n",
    "        # Your code here\n",
    "\n",
    "\n",
    "    def deposit(self, amount):\n",
    "        \"\"\"\n",
    "        Deposit the given amount to the account.\n",
    "        :param amount: (number) the amount to be deposited in dollars.\n",
    "        \"\"\"\n",
    "        self.balance += amount\n",
    "\n",
    "    def withdraw(self, amount):\n",
    "        \"\"\"\n",
    "        Withdraw the specified amount from the account if possible.\n",
    "        :param amount: (number) the amount to be withdrawn in dollars.\n",
    "        :return: (boolean) True if the withdrawal is successful\n",
    "                False otherwise\n",
    "        \"\"\"\n",
    "        if self.balance >= amount:\n",
    "            self.balance = self.balance - amount\n",
    "            return True\n",
    "        else:\n",
    "            return False\n",
    "\n"
   ]
  },
  {
   "cell_type": "markdown",
   "metadata": {},
   "source": [
    "Let's set up a couple of accounts:"
   ]
  },
  {
   "cell_type": "code",
   "execution_count": null,
   "metadata": {
    "pycharm": {
     "is_executing": true
    }
   },
   "outputs": [],
   "source": [
    "her_account = Account('Anna')\n",
    "her_account.deposit(100)\n",
    "his_account = Account('Bryan')\n",
    "his_account.deposit(20)"
   ]
  },
  {
   "cell_type": "markdown",
   "metadata": {},
   "source": [
    "Now we can add Account objects with the + operator:"
   ]
  },
  {
   "cell_type": "code",
   "execution_count": null,
   "metadata": {
    "pycharm": {
     "is_executing": true
    }
   },
   "outputs": [],
   "source": [
    "new_account = her_account + his_account\n",
    "print(new_account)"
   ]
  },
  {
   "cell_type": "markdown",
   "metadata": {},
   "source": [
    "## Magic Methods for Indexing and Length"
   ]
  },
  {
   "cell_type": "code",
   "execution_count": null,
   "metadata": {
    "pycharm": {
     "is_executing": true
    }
   },
   "outputs": [],
   "source": [
    "class Book:\n",
    "\n",
    "    \"\"\"\n",
    "    Represent a book\n",
    "\n",
    "    Arguments:\n",
    "    author (string): the author's name\n",
    "    title (string): the book title\n",
    "\n",
    "    Attributes:\n",
    "    author (string): the author's name\n",
    "    title (string): the book title\n",
    "    content (list):  list containing the content of each chapter\n",
    "    \"\"\"\n",
    "\n",
    "    def __init__(self, author, title):\n",
    "        self.author = author\n",
    "        self.title = title\n",
    "        self.content = []\n",
    "\n",
    "    def __str__(self):\n",
    "        description = [f'{self.title} by: {self.author}']\n",
    "        chapter_number = 1\n",
    "        # add chapter numbers to the representation\n",
    "        for chapter in self.content:\n",
    "            description.append(f'Chapter {chapter_number}\\n{chapter}')\n",
    "            chapter_number += 1\n",
    "        return '\\n'.join(description)\n",
    "\n",
    "    def __getitem__(self, key):\n",
    "        # if the index is in the existing chapters range\n",
    "        if 0 < key <= len(self.content):\n",
    "            return self.content[key - 1]  # convert to 0 based indexing\n",
    "\n",
    "    def __len__(self):\n",
    "        return len(self.content)  # return the number of chapters\n",
    "\n",
    "    def add_chapter(self, text):\n",
    "        \"\"\"\n",
    "        Add the given text as a new chapter at the end of the book.\n",
    "        :param text: (string) - the content of the chapter to be added\n",
    "        :return: None\n",
    "        \"\"\"\n",
    "        self.content.append(text)"
   ]
  },
  {
   "cell_type": "code",
   "execution_count": null,
   "metadata": {
    "pycharm": {
     "is_executing": true
    }
   },
   "outputs": [],
   "source": [
    "my_book = Book('Rula Khayrallah', 'Python is fun!')\n",
    "print(my_book)\n",
    "my_book.add_chapter('Python Basics')\n",
    "my_book.add_chapter('Sequence Data Types')\n",
    "my_book.add_chapter('Sets and Dictionaries')\n",
    "print(my_book[2])\n",
    "len(my_book)"
   ]
  },
  {
   "cell_type": "code",
   "execution_count": null,
   "metadata": {
    "pycharm": {
     "is_executing": true
    }
   },
   "outputs": [],
   "source": [
    "print(my_book)"
   ]
  },
  {
   "cell_type": "markdown",
   "metadata": {},
   "source": [
    "## Controlling Attribute Access"
   ]
  },
  {
   "cell_type": "code",
   "execution_count": null,
   "metadata": {
    "pycharm": {
     "is_executing": true
    }
   },
   "outputs": [],
   "source": [
    "class Account:\n",
    "    \"\"\"\n",
    "    Represent a bank account.\n",
    "\n",
    "    Argument:\n",
    "    account_holder (string): account holder's name.\n",
    "\n",
    "    Attributes:\n",
    "    holder (string): account holder's name.\n",
    "    balance (number): account balance in dollars.\n",
    "    \"\"\"\n",
    "\n",
    "    currency = '$'  # class variable\n",
    "\n",
    "    def __init__(self, account_holder):\n",
    "        self.holder = account_holder\n",
    "        super().__setattr__('balance', 0)\n",
    "\n",
    "    def __str__(self):\n",
    "        return f'Name: {self.holder}\\nBalance: ${self.balance:,.2f}'\n",
    "\n",
    "    def __setattr__(self, name, value):\n",
    "        if name == 'balance':\n",
    "            print('This is a read-only attribute')\n",
    "        else:\n",
    "            super().__setattr__(name, value)\n",
    "\n",
    "    def deposit(self, amount):\n",
    "        \"\"\"\n",
    "        Deposit the given amount to the account.\n",
    "        :param amount: (number) the amount to be deposited in dollars.\n",
    "        \"\"\"\n",
    "        super().__setattr__('balance', self.balance + amount)\n",
    "\n",
    "    def withdraw(self, amount):\n",
    "        \"\"\"\n",
    "        Withdraw the specified amount from the account if possible.\n",
    "        :param amount: (number) the amount to be withdrawn in dollars.\n",
    "        :return: (boolean) True if the withdrawal is successful\n",
    "                False otherwise\n",
    "        \"\"\"\n",
    "        if self.balance >= amount:\n",
    "            super().__setattr__('balance', self.balance - amount)\n",
    "            return True\n",
    "        else:\n",
    "            return False\n"
   ]
  },
  {
   "cell_type": "code",
   "execution_count": null,
   "metadata": {
    "pycharm": {
     "is_executing": true
    }
   },
   "outputs": [],
   "source": [
    "my_account = Account('Rula')\n",
    "my_account.deposit(50)\n",
    "my_account.deposit(20)\n",
    "print(my_account)"
   ]
  },
  {
   "cell_type": "code",
   "execution_count": null,
   "metadata": {
    "pycharm": {
     "is_executing": true
    }
   },
   "outputs": [],
   "source": [
    "my_account.balance = 1000"
   ]
  },
  {
   "cell_type": "markdown",
   "metadata": {},
   "source": [
    "Implement __ getattribute __ in the Employee class below to protect access to Social Security number"
   ]
  },
  {
   "cell_type": "code",
   "execution_count": null,
   "metadata": {},
   "outputs": [],
   "source": [
    "class Employee:\n",
    "\n",
    "    \"\"\"\n",
    "    Represent an SJSU employee\n",
    "    Arguments:\n",
    "    name (string): employee's name.\n",
    "    ssn (string):  employee's social security number\n",
    "\n",
    "    Attributes:\n",
    "    name (string): employee's name.\n",
    "    ssn (string):  employee's social security number\n",
    "    \"\"\"\n",
    "\n",
    "    def __init__(self, name, ssn):\n",
    "        self.name = name\n",
    "        self.ssn = ssn\n",
    "\n",
    "    def __getattribute__(self, attr_name):\n",
    "        value = super().__getattribute__(attr_name)\n",
    "        if attr_name == 'ssn':\n",
    "            value = f'XXX-XX-{value[-4:]}'\n",
    "        return value"
   ]
  },
  {
   "cell_type": "code",
   "execution_count": null,
   "metadata": {
    "pycharm": {
     "is_executing": true
    }
   },
   "outputs": [],
   "source": [
    "emp = Employee('Alex', '123456789')\n",
    "print(emp.ssn)"
   ]
  },
  {
   "cell_type": "markdown",
   "metadata": {},
   "source": [
    "# Submit your work\n",
    "Before the end of the lecture, you will submit your work from the lab notebook.\n",
    "\n",
    "1. Make sure you have run all cells in your notebook first.\n",
    "\n",
    "2. Save your work by clicking on File at the top left of your screen, then Save and Checkpoint.  You may also click on the Save icon on the top left.\n",
    "\n",
    "3. Download it by clicking on File at the top left of your screen, then Download as ... Notebook (ipynb).\n",
    "\n",
    "4. Upload the downloaded  ipynb file to Canvas to submit your lab."
   ]
  }
 ],
 "metadata": {
  "kernelspec": {
   "display_name": "Python 3 (ipykernel)",
   "language": "python",
   "name": "python3"
  },
  "language_info": {
   "codemirror_mode": {
    "name": "ipython",
    "version": 3
   },
   "file_extension": ".py",
   "mimetype": "text/x-python",
   "name": "python",
   "nbconvert_exporter": "python",
   "pygments_lexer": "ipython3",
   "version": "3.7.8"
  }
 },
 "nbformat": 4,
 "nbformat_minor": 1
}

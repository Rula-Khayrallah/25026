{
 "cells": [
  {
   "cell_type": "markdown",
   "metadata": {},
   "source": [
    "# Name\n",
    "Please replace this line with your name."
   ]
  },
  {
   "attachments": {},
   "cell_type": "markdown",
   "metadata": {},
   "source": [
    "# Implementation and Performance\n",
    "## Timing Excution\n",
    "%%time measures how long it takes for the code cell to run."
   ]
  },
  {
   "cell_type": "code",
   "execution_count": null,
   "metadata": {},
   "outputs": [],
   "source": [
    "%%time\n",
    "for i in range(10000):  \n",
    "    square = i ** 2"
   ]
  },
  {
   "cell_type": "code",
   "execution_count": null,
   "metadata": {},
   "outputs": [],
   "source": [
    "%%timeit\n",
    "for i in range(10000):  \n",
    "    square = i ** 2"
   ]
  },
  {
   "cell_type": "markdown",
   "metadata": {},
   "source": [
    "## List Implementation"
   ]
  },
  {
   "cell_type": "code",
   "execution_count": null,
   "metadata": {},
   "outputs": [],
   "source": [
    "import sys\n",
    "growing_list = []  # create an empty list\n",
    "print(f'Empty List size: {sys.getsizeof(growing_list)}')\n",
    "for number in range(10):\n",
    "    growing_list.append(number)  # add one element at a time\n",
    "    print(f'{number+1} element list size:',\n",
    "          f'{sys.getsizeof(growing_list)}')  # print size of list"
   ]
  },
  {
   "cell_type": "markdown",
   "metadata": {},
   "source": [
    "Time the code cells below to answer the iClicker question.  "
   ]
  },
  {
   "cell_type": "code",
   "execution_count": null,
   "metadata": {},
   "outputs": [],
   "source": [
    "\n",
    "squares = []  # create an empty list\n",
    "for number in range(10000):\n",
    "    squares.append(number**2) "
   ]
  },
  {
   "cell_type": "code",
   "execution_count": null,
   "metadata": {},
   "outputs": [],
   "source": [
    "\n",
    "squares = [number**2 for number in range(10000)]"
   ]
  },
  {
   "cell_type": "markdown",
   "metadata": {},
   "source": [
    "## List vs Tuple\n",
    "Time the code cells below to answer the iClicker question.  "
   ]
  },
  {
   "cell_type": "code",
   "execution_count": null,
   "metadata": {},
   "outputs": [],
   "source": [
    " \n",
    "new_list = [0, 1, 2, 3, 4, 5, 6, 7, 8, 9]"
   ]
  },
  {
   "cell_type": "code",
   "execution_count": null,
   "metadata": {},
   "outputs": [],
   "source": [
    " \n",
    "new_tuple = (0, 1, 2, 3, 4, 5, 6, 7, 8, 9)"
   ]
  },
  {
   "cell_type": "markdown",
   "metadata": {},
   "source": [
    "## Built-in Function vs Loop\n",
    "Time the code cells below to answer the iClicker question."
   ]
  },
  {
   "cell_type": "code",
   "execution_count": null,
   "metadata": {
    "pycharm": {
     "is_executing": true
    }
   },
   "outputs": [],
   "source": [
    "total = 0\n",
    "for each_element in range(1000):\n",
    "    total += each_element"
   ]
  },
  {
   "cell_type": "code",
   "execution_count": null,
   "metadata": {
    "pycharm": {
     "is_executing": true
    }
   },
   "outputs": [],
   "source": [
    "total = sum(range(1000))"
   ]
  },
  {
   "attachments": {},
   "cell_type": "markdown",
   "metadata": {},
   "source": [
    "# Sets\n",
    "## The Basics\n",
    "A set is an unordered collection of unique items.  We can think of it as a bag.\n",
    "The items don't need to have the same type but they need to be **hashable**."
   ]
  },
  {
   "cell_type": "code",
   "execution_count": null,
   "metadata": {
    "pycharm": {
     "is_executing": true
    }
   },
   "outputs": [],
   "source": [
    "hash('hello')"
   ]
  },
  {
   "cell_type": "code",
   "execution_count": null,
   "metadata": {},
   "outputs": [],
   "source": [
    "hash([1, 2, 3])"
   ]
  },
  {
   "cell_type": "code",
   "execution_count": null,
   "metadata": {
    "pycharm": {
     "is_executing": true
    }
   },
   "outputs": [],
   "source": [
    "hash((1, 2, 3))"
   ]
  },
  {
   "cell_type": "code",
   "execution_count": null,
   "metadata": {},
   "outputs": [],
   "source": [
    "hash((1, [2, 4], 5))"
   ]
  },
  {
   "cell_type": "code",
   "execution_count": null,
   "metadata": {},
   "outputs": [],
   "source": [
    "fruits = {'apple', 'banana', 'orange',  'pear'}\n",
    "type(fruits)  "
   ]
  },
  {
   "cell_type": "code",
   "execution_count": null,
   "metadata": {},
   "outputs": [],
   "source": [
    "print(fruits)"
   ]
  },
  {
   "cell_type": "code",
   "execution_count": null,
   "metadata": {},
   "outputs": [],
   "source": [
    "fruits = {'apple', 'banana', 'orange', 'pear', 'apple'}\n",
    "print(fruits)"
   ]
  },
  {
   "cell_type": "markdown",
   "metadata": {},
   "source": [
    "To create an empty set, we have to use set().\n",
    "\n",
    "Do NOT use {} to create an empty set.\n",
    "\n",
    "That will create an empty dictionary instead."
   ]
  },
  {
   "cell_type": "code",
   "execution_count": null,
   "metadata": {},
   "outputs": [],
   "source": [
    "my_empty = set()\n",
    "type(my_empty)"
   ]
  },
  {
   "cell_type": "markdown",
   "metadata": {},
   "source": [
    "To check whether a set is non empty, we use its boolean interpretation.\n",
    "The boolean interpretation of an empty set is False.\n",
    "The boolean interpretation of a non-empty set is True."
   ]
  },
  {
   "cell_type": "code",
   "execution_count": null,
   "metadata": {},
   "outputs": [],
   "source": [
    "if fruits:      # True only if the set is not empty\n",
    "    print(\"Let's eat some fruits!\") \n",
    "else:\n",
    "    print(\"Let's go buy some fruits!\") "
   ]
  },
  {
   "cell_type": "markdown",
   "metadata": {},
   "source": [
    "We add items to a set using the ***add*** method:"
   ]
  },
  {
   "cell_type": "code",
   "execution_count": null,
   "metadata": {},
   "outputs": [],
   "source": [
    "fruits.add('watermelon')\n",
    "print(fruits)"
   ]
  },
  {
   "cell_type": "code",
   "execution_count": null,
   "metadata": {},
   "outputs": [],
   "source": [
    "fruits = {'apple', 'banana', 'orange', 'pear'}\n",
    "fruits.add('apple')"
   ]
  },
  {
   "cell_type": "markdown",
   "metadata": {},
   "source": [
    "We can take items out of a set using the ***discard*** method.  \n",
    "The *discard* method does not generate an error if the item does not exist in the set. "
   ]
  },
  {
   "cell_type": "code",
   "execution_count": null,
   "metadata": {
    "pycharm": {
     "is_executing": true
    }
   },
   "outputs": [],
   "source": [
    "fruits.discard('pear')\n",
    "print(fruits)\n",
    "fruits.discard('strawberries')\n",
    "print(fruits)"
   ]
  },
  {
   "cell_type": "markdown",
   "metadata": {},
   "source": [
    "## Membership \n",
    "We test for membership in a set with ***in*** and ***not in***:"
   ]
  },
  {
   "cell_type": "code",
   "execution_count": null,
   "metadata": {
    "pycharm": {
     "is_executing": true
    }
   },
   "outputs": [],
   "source": [
    "if 'watermelon' in fruits:\n",
    "    print('Yum!')\n",
    "if 'strawberries' not in fruits:\n",
    "    print(\"Let's go buy some strawberries!\") "
   ]
  },
  {
   "cell_type": "code",
   "execution_count": null,
   "metadata": {
    "pycharm": {
     "is_executing": true
    }
   },
   "outputs": [],
   "source": [
    "class_list = ['Aaron', 'Bryan', 'Calvin', 'Devonna']\n",
    "class_tuple = ('Aaron', 'Bryan', 'Calvin', 'Devonna')\n",
    "class_set = {'Aaron', 'Bryan', 'Calvin', 'Devonna'}"
   ]
  },
  {
   "cell_type": "markdown",
   "metadata": {},
   "source": [
    "Time the code cells below to answer the iClicker question."
   ]
  },
  {
   "cell_type": "code",
   "execution_count": null,
   "metadata": {},
   "outputs": [],
   "source": [
    "result = 'Bryan' in class_list"
   ]
  },
  {
   "cell_type": "code",
   "execution_count": null,
   "metadata": {},
   "outputs": [],
   "source": [
    "result = 'Bryan' in class_tuple"
   ]
  },
  {
   "cell_type": "code",
   "execution_count": null,
   "metadata": {},
   "outputs": [],
   "source": [
    "result = 'Bryan' in class_set"
   ]
  },
  {
   "cell_type": "markdown",
   "metadata": {},
   "source": [
    "## Counting Distinct Values"
   ]
  },
  {
   "cell_type": "code",
   "execution_count": null,
   "metadata": {},
   "outputs": [],
   "source": [
    "grades = [100, 85, 100, 90, 78, 75]\n",
    "set(grades)"
   ]
  },
  {
   "cell_type": "code",
   "execution_count": null,
   "metadata": {},
   "outputs": [],
   "source": [
    "print(f'There are {len(set(grades))} distinct values in the list.')"
   ]
  },
  {
   "cell_type": "markdown",
   "metadata": {
    "pycharm": {
     "is_executing": true
    }
   },
   "source": [
    "Use the code cell below to answer the iClicker question."
   ]
  },
  {
   "cell_type": "code",
   "execution_count": null,
   "metadata": {
    "pycharm": {
     "is_executing": true
    }
   },
   "outputs": [],
   "source": [
    "zen = 'Simple is better than complex'"
   ]
  },
  {
   "attachments": {},
   "cell_type": "markdown",
   "metadata": {},
   "source": [
    "## Set Operations and Operators\n",
    "Python supports the following set operations and operators:  \n",
    "\n",
    "Union of two sets:  A | B -> the set of items that are in either A or in B  \n",
    "\n",
    "Intersection of two sets: A & B -> the set of items that are in A and in B   \n",
    "\n",
    "Difference of two sets:  A - B -> the set of items that are in A but not in B   \n",
    "\n",
    "Symmetric difference of two sets:  A ^ B -> the set of items that are in either A or in B but not in both\n",
    "\n",
    "Use the *split* method, the *set* conversion function and set operators in the code cells below to answer the questions.\n",
    "\n",
    "1.  What are the words that are common to the strings zen1 and zen2 (regardless of case)\n",
    "2.  What are the words that appear in one of the strings only\n",
    "\n"
   ]
  },
  {
   "cell_type": "code",
   "execution_count": null,
   "metadata": {
    "pycharm": {
     "is_executing": true
    }
   },
   "outputs": [],
   "source": [
    "zen1 = \"Simple is better than complex\"\n",
    "zen2 = \"Complex is better than complicated\"\n"
   ]
  },
  {
   "cell_type": "markdown",
   "metadata": {},
   "source": [
    "## Set Comprehensions\n",
    "The general syntax of a set comprehension is as follows:\n",
    "\n",
    "{element for variable in iterable}\n",
    "\n",
    "or\n",
    "\n",
    "{element for variable in iterable if condition] }\n",
    "\n",
    "Here are some examples of set comprehensions."
   ]
  },
  {
   "cell_type": "code",
   "execution_count": null,
   "metadata": {
    "pycharm": {
     "is_executing": true
    }
   },
   "outputs": [],
   "source": [
    "valid_ids = {100+id for id in range(1, 10, 2)}\n",
    "valid_ids"
   ]
  },
  {
   "cell_type": "code",
   "execution_count": null,
   "metadata": {
    "pycharm": {
     "is_executing": true
    }
   },
   "outputs": [],
   "source": [
    "numbers = [-1, 1, 2]\n",
    "squares = {n ** 2 for n in numbers}\n",
    "print(squares)"
   ]
  },
  {
   "cell_type": "code",
   "execution_count": null,
   "metadata": {},
   "outputs": [],
   "source": [
    "words = {'simple', 'is', 'better', 'than', 'complex'}\n",
    "long_words = {word for word in words if len(word) > 4}\n",
    "print(long_words)"
   ]
  },
  {
   "cell_type": "markdown",
   "metadata": {},
   "source": [
    "In the code cell below use a set comprehension to find the short words (length up to and including 4) in the string zen2."
   ]
  },
  {
   "cell_type": "code",
   "execution_count": null,
   "metadata": {},
   "outputs": [],
   "source": [
    "zen2 = \"Complex is better than complicated\"\n",
    "short_words = ..."
   ]
  },
  {
   "cell_type": "markdown",
   "metadata": {},
   "source": [
    "# Submit your work\n",
    "Before the end of the lecture, you will submit your work from the lab notebook.\n",
    "\n",
    "1. Make sure you have run all cells in your notebook first.\n",
    "\n",
    "2. Save your work by clicking on File at the top left of your screen, then Save and Checkpoint.  You may also click on the Save icon on the top left.\n",
    "\n",
    "3. Download it by clicking on File at the top left of your screen, then Download as ... Notebook (ipynb).\n",
    "\n",
    "4. Upload the downloaded  ipynb file to Canvas to submit your lab."
   ]
  }
 ],
 "metadata": {
  "kernelspec": {
   "display_name": "Python 3 (ipykernel)",
   "language": "python",
   "name": "python3"
  },
  "language_info": {
   "codemirror_mode": {
    "name": "ipython",
    "version": 3
   },
   "file_extension": ".py",
   "mimetype": "text/x-python",
   "name": "python",
   "nbconvert_exporter": "python",
   "pygments_lexer": "ipython3",
   "version": "3.7.8"
  }
 },
 "nbformat": 4,
 "nbformat_minor": 1
}

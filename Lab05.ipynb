{
 "cells": [
  {
   "cell_type": "markdown",
   "metadata": {},
   "source": [
    "# Name\n",
    "Please replace this line with your name."
   ]
  },
  {
   "cell_type": "markdown",
   "metadata": {},
   "source": [
    "# Dictionaries\n",
    "## The Basics\n",
    "A dictionary is a collection of key: value pairs.\n",
    "Each entry contains a key and a value separated by a colon.  \n",
    "The purpose of a dictionary is to store and retrieve values that are indexed by descriptive keys.  \n",
    "We create a dictionary by specifying the  key: value pairs between curly braces {}:"
   ]
  },
  {
   "cell_type": "code",
   "execution_count": null,
   "metadata": {},
   "outputs": [],
   "source": [
    "prices = {'apples': 2.25, 'oranges': 1.59, 'pears': 1.75}"
   ]
  },
  {
   "cell_type": "code",
   "execution_count": null,
   "metadata": {},
   "outputs": [],
   "source": [
    "print(prices)"
   ]
  },
  {
   "cell_type": "markdown",
   "source": [
    "We can access the value corresponding to a certain key with the square brackets [ ]."
   ],
   "metadata": {
    "collapsed": false
   }
  },
  {
   "cell_type": "code",
   "execution_count": null,
   "metadata": {},
   "outputs": [],
   "source": [
    "print(prices['apples'])"
   ]
  },
  {
   "cell_type": "code",
   "execution_count": null,
   "metadata": {},
   "outputs": [],
   "source": [
    "print(prices['strawberries'])\n"
   ]
  },
  {
   "cell_type": "markdown",
   "metadata": {},
   "source": [
    "We can also get the value corresponding to a certain key with the _get_ method:"
   ]
  },
  {
   "cell_type": "code",
   "execution_count": null,
   "metadata": {},
   "outputs": [],
   "source": [
    "print(prices.get('apples'))\n"
   ]
  },
  {
   "cell_type": "code",
   "execution_count": null,
   "metadata": {},
   "outputs": [],
   "source": [
    "print(prices.get('strawberries'))\n"
   ]
  },
  {
   "attachments": {},
   "cell_type": "markdown",
   "metadata": {},
   "source": [
    "With the _get_ method, we can specify a default value that is returned if the key is not found in the dictionary."
   ]
  },
  {
   "cell_type": "code",
   "execution_count": null,
   "metadata": {},
   "outputs": [],
   "source": [
    "print(prices.get('strawberries', 99.99))"
   ]
  },
  {
   "cell_type": "markdown",
   "metadata": {},
   "source": [
    "A dictionary is a mutable data type.  We can add items to a dictionary, modify existing items and delete items from a dictionary.  \n",
    "**We add key value pairs to the dictionary by assigning a value to a new key.**"
   ]
  },
  {
   "cell_type": "code",
   "execution_count": null,
   "metadata": {},
   "outputs": [],
   "source": [
    "prices['strawberries'] = 1.99\n",
    "print(prices)"
   ]
  },
  {
   "cell_type": "markdown",
   "metadata": {},
   "source": [
    "A dictionary can have at most one value for each key.  \n",
    "Assigning a value to an existing dictionary key replaces the old value with the new one."
   ]
  },
  {
   "cell_type": "code",
   "execution_count": null,
   "metadata": {},
   "outputs": [],
   "source": [
    "prices['oranges'] = 5\n",
    "print(prices)"
   ]
  },
  {
   "cell_type": "markdown",
   "metadata": {},
   "source": [
    "In the code cell below, add the price of pineapples (3.99) to the _prices_ dictionary. **Then print the dictionary.**"
   ]
  },
  {
   "cell_type": "code",
   "execution_count": null,
   "metadata": {},
   "outputs": [],
   "source": [
    "# Enter your code here"
   ]
  },
  {
   "attachments": {},
   "cell_type": "markdown",
   "metadata": {},
   "source": [
    "We can use del to delete an entry given its key:  the key and its corresponding value will be deleted."
   ]
  },
  {
   "cell_type": "code",
   "execution_count": null,
   "metadata": {},
   "outputs": [],
   "source": [
    "del prices['pineapples']\n",
    "print(prices)"
   ]
  },
  {
   "cell_type": "code",
   "execution_count": null,
   "metadata": {},
   "outputs": [],
   "source": [
    "del prices['grapes']"
   ]
  },
  {
   "attachments": {},
   "cell_type": "markdown",
   "metadata": {},
   "source": [
    "We use a **for** loop to iterate over a dictionary.\n",
    "Iterating over a dictionary is equivalent to iterating over its keys."
   ]
  },
  {
   "cell_type": "code",
   "execution_count": null,
   "metadata": {},
   "outputs": [],
   "source": [
    "for each_fruit in prices:\n",
    "    print(each_fruit)\t"
   ]
  },
  {
   "attachments": {},
   "cell_type": "markdown",
   "metadata": {},
   "source": [
    "We can check for membership in a dictionary, using **in** and **not in**."
   ]
  },
  {
   "cell_type": "code",
   "execution_count": null,
   "metadata": {},
   "outputs": [],
   "source": [
    "if 'pineapples' not in prices:\n",
    "    print('I have no idea how much pineapples cost!')"
   ]
  },
  {
   "attachments": {},
   "cell_type": "markdown",
   "metadata": {},
   "source": [
    "The boolean interpretation of an empty dictionary is False. \n",
    "The boolean interpretation of any non empty dictionary is True. "
   ]
  },
  {
   "cell_type": "code",
   "execution_count": null,
   "metadata": {},
   "outputs": [],
   "source": [
    "if prices:\n",
    "    print('Would you like to buy some fruit?')\n",
    "else:\n",
    "    print('We have no fruit to sell')"
   ]
  },
  {
   "cell_type": "code",
   "execution_count": null,
   "metadata": {},
   "outputs": [],
   "source": [
    "prices = {'apples': 2.25, 'oranges': 1.59, 'pears': 1.75}\n",
    "len(prices)"
   ]
  },
  {
   "cell_type": "code",
   "execution_count": null,
   "metadata": {},
   "outputs": [],
   "source": [
    "min(prices)"
   ]
  },
  {
   "cell_type": "code",
   "execution_count": null,
   "metadata": {},
   "outputs": [],
   "source": [
    "max(prices)"
   ]
  },
  {
   "cell_type": "code",
   "execution_count": null,
   "metadata": {},
   "outputs": [],
   "source": [
    "min(prices, key=prices.get)"
   ]
  },
  {
   "cell_type": "code",
   "execution_count": null,
   "metadata": {},
   "outputs": [],
   "source": [
    "# use this code cell to verify your answer to the iClicker questions."
   ]
  },
  {
   "cell_type": "markdown",
   "metadata": {},
   "source": [
    "## Views: Values, Keys and Items"
   ]
  },
  {
   "attachments": {},
   "cell_type": "markdown",
   "metadata": {},
   "source": [
    "We can use the method _values_ to get the current values in the dictionary.\n",
    "The method values returns a 'view'"
   ]
  },
  {
   "cell_type": "code",
   "execution_count": null,
   "metadata": {},
   "outputs": [],
   "source": [
    "prices.values()"
   ]
  },
  {
   "cell_type": "code",
   "execution_count": null,
   "metadata": {},
   "outputs": [],
   "source": [
    "todays_prices = prices.values()\n",
    "print(todays_prices)"
   ]
  },
  {
   "cell_type": "code",
   "execution_count": null,
   "metadata": {},
   "outputs": [],
   "source": [
    "prices['apples'] = 4\n",
    "print(todays_prices)"
   ]
  },
  {
   "cell_type": "code",
   "execution_count": null,
   "metadata": {},
   "outputs": [],
   "source": [
    "todays_fruits = prices.keys()\n",
    "print(todays_fruits)"
   ]
  },
  {
   "cell_type": "code",
   "execution_count": null,
   "metadata": {},
   "outputs": [],
   "source": [
    "prices['strawberries'] = 1.99\n",
    "print(todays_fruits)"
   ]
  },
  {
   "cell_type": "code",
   "execution_count": null,
   "metadata": {},
   "outputs": [],
   "source": [
    "sale = prices.items()\n",
    "print(sale)"
   ]
  },
  {
   "cell_type": "code",
   "execution_count": null,
   "metadata": {},
   "outputs": [],
   "source": [
    "del prices['apples']\n",
    "print(sale)"
   ]
  },
  {
   "cell_type": "code",
   "execution_count": null,
   "metadata": {},
   "outputs": [],
   "source": [
    "for each_fruit, each_price in prices.items():\n",
    "    print(f'{each_fruit}: ${each_price}/lb')"
   ]
  },
  {
   "cell_type": "code",
   "execution_count": null,
   "metadata": {},
   "outputs": [],
   "source": [
    "print(prices)"
   ]
  },
  {
   "cell_type": "markdown",
   "metadata": {},
   "source": [
    "Use the code cell below to find the cheapest price today (not the cheapest fruit).  \n",
    "The answer should be 1.59  \n",
    "Hint: use values() and a built-in function."
   ]
  },
  {
   "cell_type": "code",
   "execution_count": null,
   "metadata": {},
   "outputs": [],
   "source": [
    "# Use this code cell to find the cheapest price today (not the cheapest fruit).\n"
   ]
  },
  {
   "cell_type": "markdown",
   "metadata": {},
   "source": [
    "## Comprehensions"
   ]
  },
  {
   "cell_type": "code",
   "execution_count": null,
   "metadata": {},
   "outputs": [],
   "source": [
    "prices = {'apples': 2.25, 'oranges': 1.59, 'pears': 1.75}\n",
    "sale_prices = ...\n",
    "sale_prices"
   ]
  },
  {
   "cell_type": "code",
   "execution_count": null,
   "metadata": {},
   "outputs": [],
   "source": [
    "temperature = {'San Jose': 92, 'Mountain View': 89, \n",
    "               'San Francisco': 75, 'Fremont':91}\n",
    "description = ...\n",
    "description"
   ]
  },
  {
   "cell_type": "code",
   "execution_count": null,
   "metadata": {},
   "outputs": [],
   "source": [
    "prices = {'apples': 2.25, 'oranges': 1.59, 'pears': 1.75}\n",
    "cheap_fruit = ...\n",
    "cheap_fruit"
   ]
  },
  {
   "cell_type": "code",
   "execution_count": null,
   "metadata": {},
   "outputs": [],
   "source": [
    "address_book = {'Anna': '555-1234', 'Bryan': '555-1111',\n",
    "                'Chris': '555-2222', 'Dan': '555-3333'} \n",
    "phone_lookup = { address_book[name]: name\n",
    "                for name in address_book}\n",
    "phone_lookup"
   ]
  },
  {
   "cell_type": "code",
   "execution_count": null,
   "metadata": {},
   "outputs": [],
   "source": [
    "address_book = {'Anna': '555-1234', 'Bryan': '555-1111',\n",
    "                'Chris': '555-2222', 'Dan': '555-3333', 'Andrea': '555-1234'} \n",
    "phone_lookup = { address_book[name]: name\n",
    "                for name in address_book}\n",
    "phone_lookup"
   ]
  },
  {
   "cell_type": "markdown",
   "metadata": {},
   "source": [
    "## Memoization Example"
   ]
  },
  {
   "cell_type": "code",
   "execution_count": null,
   "metadata": {},
   "outputs": [],
   "source": [
    "def fibonacci(n):\n",
    "    \"\"\"\n",
    "    Compute the Fibonacci number of a given integer\n",
    "    :param n: (int)\n",
    "    :return: Fibonacci number of n (int)\n",
    "    \"\"\"\n",
    "    fibonacci.counter += 1\n",
    "    # base case: 0 or 1\n",
    "    if n <= 1:\n",
    "        return n\n",
    "    else:\n",
    "        return fibonacci(n - 1) + fibonacci(n - 2)"
   ]
  },
  {
   "cell_type": "code",
   "execution_count": null,
   "metadata": {},
   "outputs": [],
   "source": [
    "print(fibonacci.__doc__)\n",
    "dir(fibonacci)"
   ]
  },
  {
   "cell_type": "code",
   "execution_count": null,
   "metadata": {},
   "outputs": [],
   "source": [
    "# Add a function attribute to keep track number of times function is called\n",
    "fibonacci.counter = 0\n",
    "print(fibonacci(13))\n",
    "print(f'The function was called {fibonacci.counter} times!')"
   ]
  },
  {
   "cell_type": "code",
   "execution_count": null,
   "metadata": {},
   "outputs": [],
   "source": [
    "def fibocached(n, cache=None):\n",
    "    \"\"\"\n",
    "    Compute the Fibonacci number of a given integer\n",
    "    Use a dictionary to cache results\n",
    "    :param n: (int)\n",
    "    :param cache (dictionary)\n",
    "    :return: Fibonacci number of n (int)\n",
    "    \"\"\"\n",
    "    fibocached.counter += 1\n",
    "\n",
    "    if cache is None:\n",
    "        cache = {}\n",
    "    if n in cache:\n",
    "        return cache[n]\n",
    "    # base case: 0 or 1\n",
    "    if n <= 1:\n",
    "        result =  n\n",
    "    else: # recursive rule\n",
    "        result = fibocached((n - 1), cache) + fibocached((n - 2), cache)\n",
    "    cache[n] = result # update cache\n",
    "    return result"
   ]
  },
  {
   "cell_type": "code",
   "execution_count": null,
   "metadata": {},
   "outputs": [],
   "source": [
    "fibocached.counter = 0\n",
    "print(fibocached(13))\n",
    "print(f'The function was called {fibocached.counter} times!')"
   ]
  },
  {
   "cell_type": "markdown",
   "metadata": {},
   "source": [
    "# Warning: Default Mutable Argument Example"
   ]
  },
  {
   "cell_type": "code",
   "execution_count": null,
   "metadata": {},
   "outputs": [],
   "source": [
    "def add_one(a_list=[]):\n",
    "    \"\"\"\n",
    "    Add the element 1 to the given list.\n",
    "    :param a_list: (list) any list, defaults to the empty list\n",
    "    :return: (list) the modified list\n",
    "    \"\"\"\n",
    "    a_list.append(1)\n",
    "    return a_list\n",
    "\n",
    "first_list = add_one()\n",
    "print(first_list)\n",
    "second_list = add_one()\n",
    "print(second_list)"
   ]
  },
  {
   "cell_type": "code",
   "execution_count": null,
   "metadata": {},
   "outputs": [],
   "source": [
    "def add_one(a_list=None):\n",
    "    \"\"\"\n",
    "    Add the element 1 to the given list.\n",
    "    :param a_list: (list) any list, defaults to the empty list\n",
    "    :return: (list) the modified list\n",
    "    \"\"\"\n",
    "    if a_list is None:\n",
    "        a_list = []\n",
    "    a_list.append(1)\n",
    "    return a_list\n",
    "\n",
    "first_list = add_one()\n",
    "print(first_list)\n",
    "second_list = add_one()\n",
    "print(second_list)"
   ]
  },
  {
   "cell_type": "markdown",
   "metadata": {},
   "source": [
    "# Submit your work\n",
    "Before the end of the lecture, you will submit your work from the lab notebook.\n",
    "\n",
    "1. Make sure you have run all cells in your notebook first.\n",
    "\n",
    "2. Save your work by clicking on File at the top left of your screen, then Save and Checkpoint.  You may also click on the Save icon on the top left.\n",
    "\n",
    "3. Download it by clicking on File at the top left of your screen, then Download as ... Notebook (ipynb).\n",
    "\n",
    "4. Upload the downloaded  ipynb file to Canvas to submit your lab."
   ]
  }
 ],
 "metadata": {
  "kernelspec": {
   "display_name": "Python 3 (ipykernel)",
   "language": "python",
   "name": "python3"
  },
  "language_info": {
   "codemirror_mode": {
    "name": "ipython",
    "version": 3
   },
   "file_extension": ".py",
   "mimetype": "text/x-python",
   "name": "python",
   "nbconvert_exporter": "python",
   "pygments_lexer": "ipython3",
   "version": "3.7.8"
  }
 },
 "nbformat": 4,
 "nbformat_minor": 1
}

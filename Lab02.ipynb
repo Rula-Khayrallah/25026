{
 "cells": [
  {
   "cell_type": "markdown",
   "source": [
    "# Name\n",
    "Please replace this line with your name.\n"
   ],
   "metadata": {
    "collapsed": false
   }
  },
  {
   "cell_type": "markdown",
   "source": [
    "# Python Basics"
   ],
   "metadata": {
    "collapsed": false
   }
  },
  {
   "cell_type": "markdown",
   "source": [
    "## Comments\n",
    "A comment starts with  the hash character (#) and extends to the end of the line.\n",
    "\n",
    "The Python style guide (PEP 8) recommends separating the # from the comment text with a single space character.\n"
   ],
   "metadata": {
    "collapsed": false
   }
  },
  {
   "cell_type": "code",
   "execution_count": null,
   "outputs": [],
   "source": [
    "# this whole line is ignored by Python\n",
    "print('\\N{WAVING HAND SIGN}')  # everything from the # on is ignored by Python"
   ],
   "metadata": {
    "collapsed": false,
    "pycharm": {
     "is_executing": true
    }
   }
  },
  {
   "cell_type": "markdown",
   "source": [
    "Modify the code cell below to follow the Python style guide (PEP 8) recommendations."
   ],
   "metadata": {
    "collapsed": false
   }
  },
  {
   "cell_type": "code",
   "execution_count": null,
   "outputs": [],
   "source": [
    "#let's print a smiley face\n",
    "print(\"\\N{GRINNING FACE}\")  #smiley face"
   ],
   "metadata": {
    "collapsed": false
   }
  },
  {
   "cell_type": "markdown",
   "source": [
    "## Numbers in Python\n",
    "Python supports integers, floats and complex numbers.\n",
    "### Integers\n",
    "Integers have an unlimited range in Python."
   ],
   "metadata": {
    "collapsed": false
   }
  },
  {
   "cell_type": "code",
   "execution_count": null,
   "outputs": [],
   "source": [
    "print(9)\n",
    "print(-2)\n",
    "print(100 ** 50)"
   ],
   "metadata": {
    "collapsed": false,
    "pycharm": {
     "is_executing": true
    }
   }
  },
  {
   "cell_type": "markdown",
   "source": [
    "### Floats"
   ],
   "metadata": {
    "collapsed": false
   }
  },
  {
   "cell_type": "code",
   "execution_count": null,
   "outputs": [],
   "source": [
    "print(5.0)\n",
    "print(-4.5)\n",
    "print(5e2)\n",
    "print(4e-1)"
   ],
   "metadata": {
    "collapsed": false,
    "pycharm": {
     "is_executing": true
    }
   }
  },
  {
   "cell_type": "markdown",
   "source": [
    "_round_ is a useful built-in function.  It allows us to round a given number to a specified number of digits.  *round* **returns** the rounded value. Let's see how it works:\n",
    "\n",
    "To round 5.156 to 2 digits after the decimal point, we  write:"
   ],
   "metadata": {
    "collapsed": false
   }
  },
  {
   "cell_type": "code",
   "execution_count": null,
   "outputs": [],
   "source": [
    "round(5.156, 2)"
   ],
   "metadata": {
    "collapsed": false,
    "pycharm": {
     "is_executing": true
    }
   }
  },
  {
   "cell_type": "markdown",
   "source": [
    "To round 5.156 to 1 digit after the decimal point, we  write:"
   ],
   "metadata": {
    "collapsed": false
   }
  },
  {
   "cell_type": "code",
   "execution_count": null,
   "outputs": [],
   "source": [
    "round(5.156, 1)"
   ],
   "metadata": {
    "collapsed": false,
    "pycharm": {
     "is_executing": true
    }
   }
  },
  {
   "cell_type": "markdown",
   "source": [
    "If we do not specify the number of digits, it defaults to 0."
   ],
   "metadata": {
    "collapsed": false
   }
  },
  {
   "cell_type": "code",
   "execution_count": null,
   "outputs": [],
   "source": [
    "round(5.256)"
   ],
   "metadata": {
    "collapsed": false,
    "pycharm": {
     "is_executing": true
    }
   }
  },
  {
   "cell_type": "markdown",
   "source": [
    "### Complex Numbers\n",
    "\n",
    "complex(1, 2) denotes 1 + 2j"
   ],
   "metadata": {
    "collapsed": false
   }
  },
  {
   "cell_type": "code",
   "execution_count": null,
   "outputs": [],
   "source": [
    "complex(5, 2) + complex (3, 10)"
   ],
   "metadata": {
    "collapsed": false,
    "pycharm": {
     "is_executing": true
    }
   }
  },
  {
   "cell_type": "markdown",
   "source": [
    "## Arithmetic Operators and Their Precedence\n",
    "The basic mathematical operators +, -, * (multiplication), / (division), // (floor division), % (remainder)  and ** (exponent) are built into the Python language. This means we can use them right away.\n",
    "If we want to use some more advanced mathematical functions, we need to import the math module. We will cover this later during the course.\n",
    "\n",
    "Exponentiation has the highest precedence (that means it is applied first), followed by multiplication, the two divisions and remainder followed by addition and subtraction: ** *, /,//,% +, -\n",
    "\n",
    "Use the code cell below to answer the iClicker questions."
   ],
   "metadata": {
    "collapsed": false
   }
  },
  {
   "cell_type": "code",
   "execution_count": null,
   "outputs": [],
   "source": [
    "# Use this code cell to confirm the value of various arithmetic expressions\n"
   ],
   "metadata": {
    "collapsed": false,
    "pycharm": {
     "is_executing": true
    }
   }
  },
  {
   "cell_type": "markdown",
   "source": [
    "_type_ is a built-in Python function that returns the object class.  We can use it to confirm the type of an object.\n",
    "\n",
    "Can you guess then confirm the type of the expressions below?"
   ],
   "metadata": {
    "collapsed": false
   }
  },
  {
   "cell_type": "code",
   "execution_count": null,
   "outputs": [],
   "source": [
    "type(10/2)"
   ],
   "metadata": {
    "collapsed": false,
    "pycharm": {
     "is_executing": true
    }
   }
  },
  {
   "cell_type": "code",
   "execution_count": null,
   "outputs": [],
   "source": [
    "type(5+3.0)"
   ],
   "metadata": {
    "collapsed": false,
    "pycharm": {
     "is_executing": true
    }
   }
  },
  {
   "cell_type": "code",
   "execution_count": null,
   "outputs": [],
   "source": [
    "type(10//2)"
   ],
   "metadata": {
    "collapsed": false,
    "pycharm": {
     "is_executing": true
    }
   }
  },
  {
   "cell_type": "code",
   "execution_count": null,
   "outputs": [],
   "source": [
    "type(10.0//2)"
   ],
   "metadata": {
    "collapsed": false,
    "pycharm": {
     "is_executing": true
    }
   }
  },
  {
   "cell_type": "markdown",
   "source": [
    "## Booleans\n",
    "Boolean are either True or False.\n",
    "\n",
    "Booleans are implemented as a subclass of integers."
   ],
   "metadata": {
    "collapsed": false
   }
  },
  {
   "cell_type": "code",
   "execution_count": null,
   "outputs": [],
   "source": [
    "type(True)"
   ],
   "metadata": {
    "collapsed": false,
    "pycharm": {
     "is_executing": true
    }
   }
  },
  {
   "cell_type": "markdown",
   "source": [
    "## Conversion Functions\n",
    "Python provides some built-in functions that help us convert from one type to another."
   ],
   "metadata": {
    "collapsed": false
   }
  },
  {
   "cell_type": "code",
   "execution_count": null,
   "outputs": [],
   "source": [
    "int(4.123)"
   ],
   "metadata": {
    "collapsed": false
   }
  },
  {
   "cell_type": "code",
   "execution_count": null,
   "outputs": [],
   "source": [
    "int(True)"
   ],
   "metadata": {
    "collapsed": false
   }
  },
  {
   "cell_type": "code",
   "execution_count": null,
   "outputs": [],
   "source": [
    "float(-9)"
   ],
   "metadata": {
    "collapsed": false
   }
  },
  {
   "cell_type": "code",
   "execution_count": null,
   "outputs": [],
   "source": [
    "float(False)"
   ],
   "metadata": {
    "collapsed": false
   }
  },
  {
   "cell_type": "code",
   "execution_count": null,
   "outputs": [],
   "source": [
    "bool(122.5)"
   ],
   "metadata": {
    "collapsed": false,
    "pycharm": {
     "is_executing": true
    }
   }
  },
  {
   "cell_type": "code",
   "execution_count": null,
   "outputs": [],
   "source": [
    "bool(0)"
   ],
   "metadata": {
    "collapsed": false,
    "pycharm": {
     "is_executing": true
    }
   }
  },
  {
   "cell_type": "markdown",
   "source": [
    "## Variables\n",
    "### Dynamic Typing\n",
    "Python implements dynamic typing.  We don't have to declare a variable type before using it.  The variable takes the type of whatever value/object we assign to it.  That type will change if we assign a different value to the variable.\n",
    "It is important to use descriptive variable names.\n"
   ],
   "metadata": {
    "collapsed": false
   }
  },
  {
   "cell_type": "code",
   "execution_count": null,
   "outputs": [],
   "source": [
    "result = True"
   ],
   "metadata": {
    "collapsed": false
   }
  },
  {
   "cell_type": "code",
   "execution_count": null,
   "outputs": [],
   "source": [
    "type(result)"
   ],
   "metadata": {
    "collapsed": false,
    "pycharm": {
     "is_executing": true
    }
   }
  },
  {
   "cell_type": "code",
   "execution_count": null,
   "outputs": [],
   "source": [
    "result = 100 + 6"
   ],
   "metadata": {
    "collapsed": false
   }
  },
  {
   "cell_type": "code",
   "execution_count": null,
   "outputs": [],
   "source": [
    "type(result)"
   ],
   "metadata": {
    "collapsed": false,
    "pycharm": {
     "is_executing": true
    }
   }
  },
  {
   "cell_type": "markdown",
   "source": [
    "### Variable Names\n",
    "#### The Rules\n",
    "Variable names can contain letters,  digits, and underscore characters (_).\n",
    " Variable names must begin with a letter or an underscore.\n",
    "\n",
    "Keywords are reserved words that have a special meaning in Python and keywords cannot be used as variable names.\n",
    "\n",
    "Run the code cell below to see the list of keywords in Python.\n"
   ],
   "metadata": {
    "collapsed": false
   }
  },
  {
   "cell_type": "code",
   "execution_count": null,
   "outputs": [],
   "source": [
    "import keyword\n",
    "keyword.kwlist"
   ],
   "metadata": {
    "collapsed": false,
    "pycharm": {
     "is_executing": true
    }
   }
  },
  {
   "cell_type": "markdown",
   "source": [
    "#### The Guidelines: Pythonic Names\n",
    "The following guidelines are listed in the 'Style Guide for Python Code' - PEP 8:\n",
    "\n",
    "Variable names should be lowercase, with words separated by underscores as necessary to improve readability.\n",
    "\n",
    "Example: homework_grade, final_grade\n",
    "\n",
    "We'll refer to variable names that follow the Python style guide as pythonic variable names.\n",
    "\n",
    "By convention, names that start with one or more underscores are assumed to be 'private'.\n",
    "\n",
    "#### Warning\n",
    "Even though built-in function names such as int, float, type and print are NOT keywords, it is important NOT to use them as a variable name.\n",
    "\n",
    "Python will let us do it.\n",
    "\n",
    "However, we won't be able to access the Python function anymore.\n",
    "\n",
    "Here's the [list of Python built-in functions](https://docs.python.org/3/library/functions.html).\n"
   ],
   "metadata": {
    "collapsed": false
   }
  },
  {
   "cell_type": "code",
   "execution_count": null,
   "outputs": [],
   "source": [
    "float(2)"
   ],
   "metadata": {
    "collapsed": false,
    "pycharm": {
     "is_executing": true
    }
   }
  },
  {
   "cell_type": "code",
   "execution_count": null,
   "outputs": [],
   "source": [
    "float = True # no error here"
   ],
   "metadata": {
    "collapsed": false,
    "pycharm": {
     "is_executing": true
    }
   }
  },
  {
   "cell_type": "code",
   "execution_count": null,
   "outputs": [],
   "source": [
    "float(2)"
   ],
   "metadata": {
    "collapsed": false,
    "pycharm": {
     "is_executing": true
    }
   }
  },
  {
   "cell_type": "markdown",
   "source": [
    "## Constants?\n",
    "Python does not provide any mechanism to recognize constants or treat them differently than variables.\n",
    "\n",
    "The convention is to use uppercase letters for the constant names, so they are easily recognized as constants.\n",
    "\n",
    "When a constant name includes more than one word, we separate them with underscores.\n",
    "\n",
    "Note that Python will not generate any error if we change the value of a constant.\n"
   ],
   "metadata": {
    "collapsed": false
   }
  },
  {
   "cell_type": "code",
   "execution_count": null,
   "outputs": [],
   "source": [
    "CAPACITY = 50\n",
    "MAX_HEIGHT = 10\n",
    "MAX_HEIGHT = 30"
   ],
   "metadata": {
    "collapsed": false
   }
  },
  {
   "cell_type": "markdown",
   "source": [
    "## Bitcoin ATM\n",
    "Our goal today is to implement a bitcoin ATM.\n",
    "Bitcoin ATMs (Automated Teller Machine) are kiosks that allow a person to purchase bitcoins or sell bitcoins for cash.\n",
    "We'll focus on ATMs that allow a person to sell bitcoins and give them cash in return.\n",
    "The ATM charges a 1% trading fee.  Users may sell bitcoins or fractions of bitcoins, and they receive their price minus the trading fee in cash.\n",
    "\n",
    "The ATM has paper currency in 6 denominations: &#36;1, &#36;5, &#36;10, &#36;20, &#36;50, and &#36;100.\n",
    "It also carries coins in 1¢, 5¢, 10¢, 25¢ (pennies, nickels, dimes and quarters).\n",
    "\n",
    "The first step is to calculate the net proceeds.  Make sure your final answer is rounded correctly as the ATM cannot dispense fractions of pennies.\n"
   ],
   "metadata": {
    "collapsed": false
   }
  },
  {
   "cell_type": "code",
   "source": [
    "FEE = 1/100\n",
    "bitcoin_price_today = ...\n",
    "number_of_bitcoins = ...\n",
    "total_price = ...\n",
    "net_proceeds = ...\n",
    "print(f'${net_proceeds:,}')"
   ],
   "metadata": {
    "collapsed": false
   },
   "execution_count": null,
   "outputs": []
  },
  {
   "cell_type": "markdown",
   "source": [
    "Now that we have calculated the net_proceeds, we need to figure out the number of bills and coins to dispense from each denomination."
   ],
   "metadata": {
    "collapsed": false
   }
  },
  {
   "cell_type": "code",
   "execution_count": null,
   "outputs": [],
   "source": [
    "bills = int(net_proceeds)  # amount to be dispensed in paper bills\n",
    "coins = round((net_proceeds - bills) * 100)  # coins to be dispensed in cents\n",
    "# paper bills to be dispensed\n",
    "hundreds = ...\n",
    "amount_left = ...\n",
    "fifties = ...\n",
    "amount_left = ...\n",
    "twenties = ...\n",
    "amount_left = ...\n",
    "tens = ...\n",
    "amount_left = ...\n",
    "fives = ...\n",
    "dollars = ...\n",
    "\n",
    "# coins to be dispensed\n",
    "quarters = ...\n",
    "coins_left = ...\n",
    "dimes = ...\n",
    "coins_left = ...\n",
    "nickels = ...\n",
    "pennies = ...\n",
    "\n",
    "print(\"Cash to be dispensed:\")\n",
    "print(hundreds, \"$100 bill/s\")\n",
    "print(fifties, \"$50 bill/s\")\n",
    "print(twenties, \"$20 bill/s\")\n",
    "print(tens, \"$10 bill/s\")\n",
    "print(dollars, \"$1 bill/s\")\n",
    "print(quarters, \"quarter/s\")\n",
    "print(dimes, \"dime/s\")\n",
    "print(nickels, \"nickel/s\")\n",
    "print(pennies, \"penny/ies\")"
   ],
   "metadata": {
    "collapsed": false
   }
  },
  {
   "cell_type": "markdown",
   "source": [
    "## Comparison Operators\n",
    "==\tequal\n",
    "\n",
    "!=\t\tnot equal\n",
    "\n",
    "\\>\t\tstrictly greater than\n",
    "\n",
    "\\<\t\tstrictly less than\n",
    "\n",
    "\\>=\tgreater than or equal\n",
    "\n",
    "\\<=\tless than or equal\n",
    "\n",
    "\n"
   ],
   "metadata": {
    "collapsed": false
   }
  },
  {
   "cell_type": "markdown",
   "source": [
    "### Comparing Booleans\n",
    "No comparison operator is needed for comparing boolean values:\n"
   ],
   "metadata": {
    "collapsed": false
   }
  },
  {
   "cell_type": "code",
   "execution_count": null,
   "outputs": [],
   "source": [
    "success = True\n",
    "if success:\n",
    "    print (\"Yay!\")"
   ],
   "metadata": {
    "collapsed": false,
    "pycharm": {
     "is_executing": true
    }
   }
  },
  {
   "cell_type": "markdown",
   "source": [
    "### None\n",
    "None is a built-in constant in Python.\n",
    "\n",
    "It is often used to represent the absence of a value.\n",
    "\n",
    "It is the only value of the type NoneType."
   ],
   "metadata": {
    "collapsed": false
   }
  },
  {
   "cell_type": "code",
   "execution_count": null,
   "outputs": [],
   "source": [
    "type(None)"
   ],
   "metadata": {
    "collapsed": false,
    "pycharm": {
     "is_executing": true
    }
   }
  },
  {
   "cell_type": "markdown",
   "source": [
    "Comparisons to None are done with _is_ not with ==:"
   ],
   "metadata": {
    "collapsed": false
   }
  },
  {
   "cell_type": "code",
   "execution_count": null,
   "outputs": [],
   "source": [
    "result = None\n",
    "if result is None:\n",
    "    print(\"No result!\")"
   ],
   "metadata": {
    "collapsed": false,
    "pycharm": {
     "is_executing": true
    }
   }
  },
  {
   "cell_type": "markdown",
   "source": [
    "### Important: Comparing Values\n",
    "Do NOT use _is_ for comparing values.\n",
    "_is_ is for object identity and comparison to None only.\n"
   ],
   "metadata": {
    "collapsed": false
   }
  },
  {
   "cell_type": "code",
   "execution_count": null,
   "outputs": [],
   "source": [
    "first = 1000\n",
    "second = 10 * 100\n",
    "first is second"
   ],
   "metadata": {
    "collapsed": false,
    "pycharm": {
     "is_executing": true
    }
   }
  },
  {
   "cell_type": "code",
   "execution_count": null,
   "outputs": [],
   "source": [
    "first == second"
   ],
   "metadata": {
    "collapsed": false,
    "pycharm": {
     "is_executing": true
    }
   }
  },
  {
   "cell_type": "markdown",
   "source": [
    "## Logical Operators\n",
    "There are  3 logical operators, evaluated in the following precedence order:\n",
    "* not\n",
    "* and\n",
    "* or\n",
    "\n",
    "The logical operators 'or' and 'and' are short-circuit operators.  The second argument is not always evaluated.  It is only evaluated if needed.\n",
    "\n",
    "* 'or' only evaluates the second argument if the first one is False.\n",
    "\n",
    "* 'and' only evaluates the second argument if the first one is True.\n",
    "\n",
    "### Boolean Interpretation\n",
    "Python has a boolean interpretation  for non-boolean values.\n",
    "\n",
    "For example, any nonzero number is interpreted as True.\n",
    "\n",
    "0 is interpreted as False.\n",
    "### Short Circuiting\n",
    "The logical operators also take non booleans as operands and may return a non-boolean.\n",
    "* If the first operand is False  (or has a boolean interpretation of False), the 'or' operator returns the value of the second operand (boolean or not).\n",
    "* If the first operand is True (or has a boolean interpretation of True), the 'or' operator returns the value of the first operand.\n",
    "* If the first operand is True  (or has a boolean interpretation of True), the 'and' operator returns the value of the second operand.\n",
    "* If the first operand is False (or has a boolean interpretation of False), the 'and' operator returns the value of the first operand.\n",
    "Use the code cell below to confirm your answer to the iClicker questions."
   ],
   "metadata": {
    "collapsed": false
   }
  },
  {
   "cell_type": "code",
   "execution_count": null,
   "outputs": [],
   "source": [
    "# Use this code cell to confirm your answer to the iClicker questions."
   ],
   "metadata": {
    "collapsed": false
   }
  },
  {
   "cell_type": "markdown",
   "source": [
    "### Warning: Bitwise Operator are NOT Logical Operators\n",
    "&, | and ~ are bitwise operators and not logical operators.\n",
    "\n",
    "Using the bitwise operators instead of the logical ones in expressions will result in hard to find bugs."
   ],
   "metadata": {
    "collapsed": false
   }
  },
  {
   "cell_type": "code",
   "execution_count": null,
   "outputs": [],
   "source": [
    "a = 5\n",
    "b = 5\n",
    "if a > 2 & b < 1:\n",
    "    print(\"what's going on?\" )"
   ],
   "metadata": {
    "collapsed": false
   }
  },
  {
   "cell_type": "markdown",
   "source": [
    "# Submit your work\n",
    "Before the end of the lecture, you will submit your work from the lab notebook.\n",
    "\n",
    "1. Make sure you have run all cells in your notebook first.\n",
    "\n",
    "2. Save your work by clicking on File at the top left of your screen, then Save and Checkpoint.  You may also click on the Save icon on the top left.\n",
    "\n",
    "3. Download it by clicking on File at the top left of your screen, then Download as ... Notebook (ipynb).\n",
    "\n",
    "4. Upload the downloaded  ipynb file to Canvas to submit your lab."
   ],
   "metadata": {
    "collapsed": false
   }
  }
 ],
 "metadata": {
  "kernelspec": {
   "display_name": "Python 3",
   "language": "python",
   "name": "python3"
  },
  "language_info": {
   "codemirror_mode": {
    "name": "ipython",
    "version": 2
   },
   "file_extension": ".py",
   "mimetype": "text/x-python",
   "name": "python",
   "nbconvert_exporter": "python",
   "pygments_lexer": "ipython2",
   "version": "2.7.6"
  }
 },
 "nbformat": 4,
 "nbformat_minor": 0
}

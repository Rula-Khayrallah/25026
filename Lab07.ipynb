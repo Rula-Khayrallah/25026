{
 "cells": [
  {
   "cell_type": "markdown",
   "source": [
    "# Name\n",
    "Please replace this line with your name."
   ],
   "metadata": {
    "collapsed": false
   }
  },
  {
   "cell_type": "markdown",
   "metadata": {},
   "source": [
    "# Defining Classes"
   ]
  },
  {
   "cell_type": "code",
   "execution_count": null,
   "metadata": {},
   "outputs": [],
   "source": [
    "class FruitShop:\n",
    "\n",
    "    \"\"\"\n",
    "    Represent a shop that sells fruits.\n",
    "    \"\"\"\n",
    "\n"
   ]
  },
  {
   "cell_type": "markdown",
   "metadata": {},
   "source": [
    "Instantiate a FruitShop object in the code cell below:"
   ]
  },
  {
   "cell_type": "code",
   "execution_count": null,
   "metadata": {},
   "outputs": [],
   "source": [
    "shop = ..."
   ]
  },
  {
   "cell_type": "markdown",
   "metadata": {},
   "source": [
    "## Class Example:  _Account_"
   ]
  },
  {
   "cell_type": "code",
   "execution_count": null,
   "metadata": {
    "pycharm": {
     "is_executing": true
    }
   },
   "outputs": [],
   "source": [
    "class Account:\n",
    "\n",
    "    \"\"\"\n",
    "    Represent a bank account.\n",
    "\n",
    "    Argument:\n",
    "    account_holder (string): account holder's name.\n",
    "\n",
    "    Attributes:\n",
    "    holder (string): account holder's name.\n",
    "    balance (number): account balance in dollars.\n",
    "    \"\"\"\n",
    "\n",
    "    currency = '$' # class variable\n",
    "\n",
    "    def __init__(self, account_holder):\n",
    "        self.holder = account_holder\n",
    "        self.balance = 0\n",
    "\n",
    "    def deposit(self, amount):\n",
    "        \"\"\"\n",
    "        Deposit the given amount to the account.\n",
    "        :param amount: (number) the amount to be deposited in dollars.\n",
    "        \"\"\"\n",
    "        self.balance += amount\n",
    "\n",
    "    def withdraw(self, amount):\n",
    "        \"\"\"\n",
    "        Withdraw the specified amount from the account if possible.\n",
    "        :param amount: (number) the amount to be withdrawn in dollars.\n",
    "        :return: (boolean) True if the withdrawal is successful\n",
    "                False otherwise\n",
    "        \"\"\"\n",
    "        if self.balance >= amount:\n",
    "            self.balance = self.balance - amount\n",
    "            return True\n",
    "        else:\n",
    "            return False\n",
    "\n"
   ]
  },
  {
   "cell_type": "markdown",
   "metadata": {},
   "source": [
    "Instantiate an account with your name and print it."
   ]
  },
  {
   "cell_type": "code",
   "execution_count": null,
   "metadata": {
    "pycharm": {
     "is_executing": true
    }
   },
   "outputs": [],
   "source": [
    "my_account = ...\n",
    "print(...)"
   ]
  },
  {
   "cell_type": "markdown",
   "metadata": {},
   "source": [
    "Print the instance variables _holder_ and _balance_:"
   ]
  },
  {
   "cell_type": "code",
   "execution_count": null,
   "metadata": {},
   "outputs": [],
   "source": [
    "print(...)\n",
    "print(...)"
   ]
  },
  {
   "cell_type": "markdown",
   "metadata": {},
   "source": [
    "Use the code cell below to deposit and withdraw amounts from the Account object you created."
   ]
  },
  {
   "cell_type": "code",
   "execution_count": null,
   "metadata": {
    "pycharm": {
     "is_executing": true
    }
   },
   "outputs": [],
   "source": [
    "my_account."
   ]
  },
  {
   "cell_type": "markdown",
   "metadata": {},
   "source": [
    "Add a code cell below to verify your answers to the iClicker questions."
   ]
  },
  {
   "cell_type": "markdown",
   "metadata": {},
   "source": [
    "## Class Variables\n",
    "Class variables are available through any instance of the class:\n"
   ]
  },
  {
   "cell_type": "code",
   "execution_count": null,
   "metadata": {
    "pycharm": {
     "is_executing": true
    }
   },
   "outputs": [],
   "source": [
    "her_account = Account('Anna')\n",
    "her_account.currency"
   ]
  },
  {
   "cell_type": "markdown",
   "metadata": {},
   "source": [
    "Class variables are also available through a direct reference to the class:\n"
   ]
  },
  {
   "cell_type": "code",
   "execution_count": null,
   "metadata": {
    "pycharm": {
     "is_executing": true
    }
   },
   "outputs": [],
   "source": [
    "Account.currency"
   ]
  },
  {
   "cell_type": "markdown",
   "metadata": {},
   "source": [
    "Class variables can be read through the instance reference (her_account.currency) but they cannot be modified through the instance.\n"
   ]
  },
  {
   "cell_type": "code",
   "execution_count": null,
   "metadata": {
    "pycharm": {
     "is_executing": true
    }
   },
   "outputs": [],
   "source": [
    "her_account.currency = '¥' # this creates a new instance variable\n",
    "print(her_account.currency)\n",
    "his_account = Account('Alex')\n",
    "print(his_account.currency)  # the class variable was not modified\n",
    "print(Account.currency)\n"
   ]
  },
  {
   "cell_type": "markdown",
   "metadata": {},
   "source": [
    "If we want to change the class variable, we'll have to do so through the reference to the class.  Inside a class definition, this is best done by a class method (coming soon)."
   ]
  },
  {
   "cell_type": "code",
   "execution_count": null,
   "metadata": {
    "pycharm": {
     "is_executing": true
    }
   },
   "outputs": [],
   "source": [
    "Account.currency = '€'\n",
    "print(his_account.currency) # the modified class variable is accessed through the object\n",
    "print(her_account.currency) # this is still the instance variable\n"
   ]
  },
  {
   "cell_type": "markdown",
   "metadata": {},
   "source": [
    "## Private Instance Variables?\n",
    "Add a _country (pseudo private) instance variable to the _Account_ class definition above and rerun the code cell to update the class definition.\n",
    "Then create a new Account object and print the _country instance variable."
   ]
  },
  {
   "cell_type": "code",
   "execution_count": null,
   "metadata": {},
   "outputs": [],
   "source": [
    "new_account = Account(...)\n",
    "print(new_account._country)"
   ]
  },
  {
   "cell_type": "markdown",
   "metadata": {},
   "source": [
    "Add a __note instance variable to the Account class definition above and rerun the code cell to update the class definition. Then create a new Account object.\n",
    " Try to print the __note instance variable."
   ]
  },
  {
   "cell_type": "code",
   "execution_count": null,
   "metadata": {
    "pycharm": {
     "is_executing": true
    }
   },
   "outputs": [],
   "source": [
    "new_account = Account(...)\n",
    "print(new_account.__note)"
   ]
  },
  {
   "cell_type": "markdown",
   "metadata": {},
   "source": [
    "Now access the instance variable using its mangled name:"
   ]
  },
  {
   "cell_type": "code",
   "execution_count": null,
   "metadata": {
    "pycharm": {
     "is_executing": true
    }
   },
   "outputs": [],
   "source": [
    "print(new_account._Account__note)"
   ]
  },
  {
   "cell_type": "markdown",
   "metadata": {},
   "source": [
    "# Properties\n",
    "This new Account class definition includes a credit_limit method.  Run it to update the Account class definition."
   ]
  },
  {
   "cell_type": "code",
   "execution_count": null,
   "metadata": {
    "pycharm": {
     "is_executing": true
    }
   },
   "outputs": [],
   "source": [
    "class Account:\n",
    "\n",
    "    \"\"\"\n",
    "    Represent a bank account.\n",
    "\n",
    "    Argument:\n",
    "    account_holder (string): account holder's name.\n",
    "\n",
    "    Attributes:\n",
    "    holder (string): account holder's name.\n",
    "    balance (number): account balance in dollars.\n",
    "    \"\"\"\n",
    "\n",
    "    currency = '$' # class variable\n",
    "\n",
    "    def __init__(self, account_holder):\n",
    "        self.holder = account_holder\n",
    "        self.balance = 0\n",
    "\n",
    "    def deposit(self, amount):\n",
    "        \"\"\"\n",
    "        Deposit the given amount to the account.\n",
    "        :param amount: (number) the amount to be deposited in dollars.\n",
    "        \"\"\"\n",
    "        self.balance += amount\n",
    "\n",
    "    def withdraw(self, amount):\n",
    "        \"\"\"\n",
    "        Withdraw the specified amount from the account if possible.\n",
    "        :param amount: (number) the amount to be withdrawn in dollars.\n",
    "        :return: (boolean) True if the withdrawal is successful\n",
    "                False otherwise\n",
    "        \"\"\"\n",
    "        if self.balance >= amount:\n",
    "            self.balance = self.balance - amount\n",
    "            return True\n",
    "        else:\n",
    "            return False\n",
    "\n",
    "    def credit_limit(self):\n",
    "        \"\"\"\n",
    "        The credit limit available for the account holder\n",
    "        :return: (float) maximum credit amount that can be charged\n",
    "        \"\"\"\n",
    "        return self.balance / 2\n"
   ]
  },
  {
   "cell_type": "markdown",
   "metadata": {},
   "source": [
    "We can create a new account and call the _credit_limit_ method on it."
   ]
  },
  {
   "cell_type": "code",
   "execution_count": null,
   "metadata": {
    "pycharm": {
     "is_executing": true
    }
   },
   "outputs": [],
   "source": [
    "account_anna = Account('Anna')\n",
    "account_anna.deposit(20)\n",
    "account_anna.credit_limit()"
   ]
  },
  {
   "cell_type": "markdown",
   "metadata": {},
   "source": [
    "Now let's add the _property_ decorator to the _credit_limit_ method above.\n",
    "Rerun the code cell to update the class definition. Then create a new Account object."
   ]
  },
  {
   "cell_type": "code",
   "execution_count": null,
   "metadata": {
    "pycharm": {
     "is_executing": true
    }
   },
   "outputs": [],
   "source": [
    "account_alex = Account('Alex')\n",
    "account_alex.deposit(60)\n",
    "account_alex.credit_limit\n"
   ]
  },
  {
   "cell_type": "markdown",
   "metadata": {},
   "source": [
    "Can we change the credit limit property?"
   ]
  },
  {
   "cell_type": "code",
   "execution_count": null,
   "metadata": {
    "pycharm": {
     "is_executing": true
    }
   },
   "outputs": [],
   "source": [
    "account_alex.credit_limit = 100"
   ]
  },
  {
   "cell_type": "markdown",
   "metadata": {},
   "source": [
    "We can use properties to restrict access to some attributes."
   ]
  },
  {
   "cell_type": "code",
   "execution_count": null,
   "metadata": {
    "pycharm": {
     "is_executing": true
    }
   },
   "outputs": [],
   "source": [
    "class Account:\n",
    "\n",
    "    \"\"\"\n",
    "    Represent a bank account.\n",
    "\n",
    "    Argument:\n",
    "    account_holder (string): account holder's name.\n",
    "\n",
    "    Attributes:\n",
    "    holder (string): account holder's name.\n",
    "    balance (number): account balance in dollars.\n",
    "    \"\"\"\n",
    "\n",
    "    currency = '$' # class variable\n",
    "\n",
    "    def __init__(self, account_holder):\n",
    "        self.holder = account_holder\n",
    "        self._balance = 0\n",
    "\n",
    "    def deposit(self, amount):\n",
    "        \"\"\"\n",
    "        Deposit the given amount to the account.\n",
    "        :param amount: (number) the amount to be deposited in dollars.\n",
    "        \"\"\"\n",
    "        self._balance += amount\n",
    "\n",
    "    def withdraw(self, amount):\n",
    "        \"\"\"\n",
    "        Withdraw the specified amount from the account if possible.\n",
    "        :param amount: (number) the amount to be withdrawn in dollars.\n",
    "        :return: (boolean) True if the withdrawal is successful\n",
    "                False otherwise\n",
    "        \"\"\"\n",
    "        if self._balance >= amount:\n",
    "            self._balance = self._balance - amount\n",
    "            return True\n",
    "        else:\n",
    "            return False\n",
    "\n",
    "    @property\n",
    "    def balance(self):\n",
    "        \"\"\"\n",
    "        The account balance.\n",
    "        :return: float\n",
    "        \"\"\"\n",
    "        return self._balance"
   ]
  },
  {
   "cell_type": "markdown",
   "metadata": {},
   "source": [
    "The property decorated method gives us read access to the restricted attribute."
   ]
  },
  {
   "cell_type": "code",
   "execution_count": null,
   "metadata": {
    "pycharm": {
     "is_executing": true
    }
   },
   "outputs": [],
   "source": [
    "account_zoe = Account('Zoe')\n",
    "account_zoe.deposit(200)\n",
    "account_zoe.balance"
   ]
  },
  {
   "cell_type": "markdown",
   "metadata": {},
   "source": [
    "The balance attribute can no longer be modified."
   ]
  },
  {
   "cell_type": "code",
   "execution_count": null,
   "metadata": {
    "pycharm": {
     "is_executing": true
    }
   },
   "outputs": [],
   "source": [
    "account_zoe.balance = 1000"
   ]
  },
  {
   "cell_type": "markdown",
   "metadata": {},
   "source": [
    "# Static Methods and Class Methods"
   ]
  },
  {
   "cell_type": "code",
   "execution_count": null,
   "metadata": {
    "pycharm": {
     "is_executing": true
    }
   },
   "outputs": [],
   "source": [
    "class Student:\n",
    "\n",
    "    \"\"\"\n",
    "    Represent a student in a college setting.\n",
    "\n",
    "    Arguments:\n",
    "    name (string): student name\n",
    "    sid (integer): student id - 8 digits\n",
    "\n",
    "    Attributes:\n",
    "    name (string): student name\n",
    "    sid (integer): student id - 8 digits\n",
    "    \"\"\"\n",
    "\n",
    "    enrollment = 0  # Class variable\n",
    "\n",
    "    def __init__(self, name, sid):\n",
    "        self.name = name\n",
    "        if self.valid(sid):  # invoke the static method\n",
    "            self.sid = sid\n",
    "        else:\n",
    "            self.sid = 99999999\n",
    "        self.add_student()  # invoke the class method\n",
    "\n",
    "    @staticmethod\n",
    "    def valid(some_id):\n",
    "        \"\"\"\n",
    "        A valid student id starts with 2022.\n",
    "        :param some_id: (integer)\n",
    "        :return: (boolean) True id id is valid and False otherwise.\n",
    "        \"\"\"\n",
    "        return some_id // 10000 == 2022\n",
    "\n",
    "    @classmethod\n",
    "    def add_student(cls):\n",
    "        \"\"\"\n",
    "        Update the enrollment total.\n",
    "        \"\"\"\n",
    "        cls.enrollment += 1  # update the class variable"
   ]
  },
  {
   "cell_type": "code",
   "execution_count": null,
   "metadata": {
    "pycharm": {
     "is_executing": true
    }
   },
   "outputs": [],
   "source": [
    "alex = Student('Alex', 20221111)\n",
    "anna = Student('Anna', 20909)\n",
    "print(alex.sid)\n",
    "print(anna.sid)"
   ]
  },
  {
   "cell_type": "code",
   "execution_count": null,
   "metadata": {
    "pycharm": {
     "is_executing": true
    }
   },
   "outputs": [],
   "source": [
    "print(Student.enrollment)\n",
    "print(alex.enrollment)\n",
    "print(anna.enrollment)"
   ]
  },
  {
   "cell_type": "markdown",
   "metadata": {},
   "source": [
    "# Inheritance"
   ]
  },
  {
   "cell_type": "code",
   "execution_count": null,
   "metadata": {
    "pycharm": {
     "is_executing": true
    }
   },
   "outputs": [],
   "source": [
    "class SavingsAccount(Account):\n",
    "\n",
    "    \"\"\"\n",
    "    Represent a savings bank account with a withdrawal fee.\n",
    "    Inherits from:  Account\n",
    "\n",
    "    Argument:\n",
    "    account_holder (str): account holder's name.\n",
    "\n",
    "    Attributes:\n",
    "    holder (str): account holder's name.\n",
    "    balance (number): account balance in dollars.\n",
    "    \"\"\"\n",
    "\n",
    "    # class variable\n",
    "    fee = 1\n",
    "\n",
    "    def withdraw(self, amount):\n",
    "        \"\"\"\n",
    "        withdraw the amount and the fee from the account if possible.\n",
    "\n",
    "        Parameter:\n",
    "        amount (float): the amount to be withdrawn in dollars.\n",
    "        Returns:\n",
    "        boolean: True if the withdrawal is successful\n",
    "                 False otherwise\n",
    "        \"\"\"\n",
    "        if self.balance >= amount + self.fee:\n",
    "            self.balance = self.balance - amount - self.fee\n",
    "            return True\n",
    "        else:\n",
    "            return False"
   ]
  },
  {
   "cell_type": "markdown",
   "metadata": {},
   "source": [
    "The PremiumAccount class definition below is not DRY.\n",
    "Make it DRY by using _super_ and invoking the parent class __ init __."
   ]
  },
  {
   "cell_type": "code",
   "execution_count": null,
   "metadata": {},
   "outputs": [],
   "source": [
    "class PremiumAccount(Account):\n",
    "\n",
    "    \"\"\"\n",
    "    Represent a premium interest bearing bank account.\n",
    "    Inherits from Account\n",
    "\n",
    "    Argument:\n",
    "    account_holder (str): account holder's name.\n",
    "    rate (float): interest rate\n",
    "\n",
    "    Attributes:\n",
    "    holder (str): account holder's name.\n",
    "    balance (number): account balance in dollars.\n",
    "    interest_rate (float): interest rate\n",
    "    \"\"\"\n",
    "    def __init__(self, account_holder, rate):\n",
    "        self.interest_rate = rate\n",
    "        self.holder = account_holder\n",
    "        self.balance = 0"
   ]
  },
  {
   "cell_type": "code",
   "execution_count": null,
   "metadata": {},
   "outputs": [],
   "source": [
    "class PremiumSavingsAccount(PremiumAccount, SavingsAccount):\n",
    "\n",
    "    \"\"\"\n",
    "    Represent a premium interest bearing bank account\n",
    "    with a withdrawal fee.\n",
    "    Inherits from PremiumAccount, SavingsAccount\n",
    "\n",
    "    Argument:\n",
    "    account_holder (str): account holder's name.\n",
    "    rate (float): interest rate\n",
    "\n",
    "    Attributes:\n",
    "    holder (str): account holder's name.\n",
    "    balance (number): account balance in dollars.\n",
    "    interest_rate (float): interest rate\n",
    "\n",
    "    \"\"\""
   ]
  },
  {
   "cell_type": "markdown",
   "metadata": {},
   "source": [
    "# Submit your work\n",
    "Before the end of the lecture, you will submit your work from the lab notebook.\n",
    "\n",
    "1. Make sure you have run all cells in your notebook first.\n",
    "\n",
    "2. Save your work by clicking on File at the top left of your screen, then Save and Checkpoint.  You may also click on the Save icon on the top left.\n",
    "\n",
    "3. Download it by clicking on File at the top left of your screen, then Download as ... Notebook (ipynb).\n",
    "\n",
    "4. Upload the downloaded  ipynb file to Canvas to submit your lab."
   ]
  }
 ],
 "metadata": {
  "kernelspec": {
   "display_name": "Python 3 (ipykernel)",
   "language": "python",
   "name": "python3"
  },
  "language_info": {
   "codemirror_mode": {
    "name": "ipython",
    "version": 3
   },
   "file_extension": ".py",
   "mimetype": "text/x-python",
   "name": "python",
   "nbconvert_exporter": "python",
   "pygments_lexer": "ipython3",
   "version": "3.7.8"
  }
 },
 "nbformat": 4,
 "nbformat_minor": 1
}

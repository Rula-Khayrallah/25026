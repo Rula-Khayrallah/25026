{
 "cells": [
  {
   "cell_type": "markdown",
   "metadata": {},
   "source": [
    "# Name\n",
    "Please replace this line with your name."
   ]
  },
  {
   "cell_type": "markdown",
   "metadata": {},
   "source": [
    "# Exceptions"
   ]
  },
  {
   "cell_type": "markdown",
   "metadata": {},
   "source": [
    "## Built-in Exceptions"
   ]
  },
  {
   "cell_type": "code",
   "execution_count": null,
   "metadata": {},
   "outputs": [],
   "source": [
    "total = 100\n",
    "number = 0\n",
    "print(total / number)"
   ]
  },
  {
   "cell_type": "code",
   "execution_count": null,
   "metadata": {},
   "outputs": [],
   "source": [
    "print(novariable)"
   ]
  },
  {
   "cell_type": "code",
   "execution_count": null,
   "metadata": {},
   "outputs": [],
   "source": [
    "total =  3 + \"5\""
   ]
  },
  {
   "cell_type": "code",
   "execution_count": null,
   "metadata": {},
   "outputs": [],
   "source": [
    "with open('nofile') as input_file:\n",
    "     input_file.read()     "
   ]
  },
  {
   "cell_type": "code",
   "execution_count": null,
   "metadata": {},
   "outputs": [],
   "source": [
    "colors = ['red', 'blue', 'green']\n",
    "colors[3] = 'purple'"
   ]
  },
  {
   "cell_type": "markdown",
   "metadata": {},
   "source": [
    "## Handling Exceptions"
   ]
  },
  {
   "cell_type": "code",
   "execution_count": null,
   "metadata": {},
   "outputs": [],
   "source": [
    "valid_input = False\n",
    "while not valid_input:\n",
    "    try:\n",
    "        amount = float(input('Please enter the total amount due in $ '))\n",
    "    except ValueError:\n",
    "        print('Invalid amount. Please try again.')\n",
    "    else:\n",
    "        valid_input = True\n",
    "print(f'Amount Entered: ${amount:.2f}')"
   ]
  },
  {
   "cell_type": "code",
   "execution_count": null,
   "metadata": {},
   "outputs": [],
   "source": [
    "filename = input(\"Please enter filename: \")\n",
    "try:\n",
    "    with open(filename, 'r', encoding='utf-8') as input_file:\n",
    "        content = input_file.read()\n",
    "except FileNotFoundError as error:  # if the file is not found – the try fails\n",
    "    print(error)\n",
    "else:   # if the file is found – the try is successful\n",
    "    print(content)\n",
    "finally:   # always executed\n",
    "    print('All done!')"
   ]
  },
  {
   "cell_type": "code",
   "execution_count": null,
   "metadata": {},
   "outputs": [],
   "source": [
    "filename = input(\"Please enter filename: \")\n",
    "try:\n",
    "    with open(filename, 'r', encoding='utf-8') as input_file:\n",
    "        number = float(input_file.read())\n",
    "except FileNotFoundError as error:\n",
    "    print(error)\n",
    "except ValueError as error:\n",
    "    print(error)"
   ]
  },
  {
   "cell_type": "markdown",
   "metadata": {},
   "source": [
    "Modify the code cell below to handle both exceptions with a single except clause:"
   ]
  },
  {
   "cell_type": "code",
   "execution_count": null,
   "metadata": {},
   "outputs": [],
   "source": [
    "filename = input(\"Please enter filename: \")\n",
    "try:\n",
    "    with open(filename, 'r', encoding='utf-8') as input_file:\n",
    "        number = float(input_file.read())\n",
    "except FileNotFoundError as error:\n",
    "    print(error)\n",
    "except ValueError as error:\n",
    "    print(error)"
   ]
  },
  {
   "cell_type": "markdown",
   "metadata": {},
   "source": [
    "## Raising Exceptions"
   ]
  },
  {
   "cell_type": "code",
   "execution_count": null,
   "metadata": {},
   "outputs": [],
   "source": [
    "raise NameError('oops!')"
   ]
  },
  {
   "cell_type": "code",
   "execution_count": null,
   "metadata": {},
   "outputs": [],
   "source": [
    "raise TypeError('Type Mismatch')"
   ]
  },
  {
   "cell_type": "code",
   "execution_count": null,
   "metadata": {},
   "outputs": [],
   "source": [
    "address_book = {}\n",
    "name = 'Waldo'\n",
    "if name in address_book:\n",
    "    print(address_book[name])\n",
    "else:\n",
    "    raise NameError(f'{name} is nowhere to be found!')"
   ]
  },
  {
   "cell_type": "code",
   "execution_count": null,
   "metadata": {},
   "outputs": [],
   "source": [
    " try:\n",
    "    grade = float(input('Please enter your grade: '))\n",
    "except ValueError:\n",
    "    print(\"That's not a valid grade.  Please try again.\")\n",
    "    raise"
   ]
  },
  {
   "cell_type": "markdown",
   "metadata": {},
   "source": [
    "## User defined Exceptions"
   ]
  },
  {
   "cell_type": "code",
   "execution_count": null,
   "metadata": {},
   "outputs": [],
   "source": [
    "class NewError(Exception):\n",
    "    pass"
   ]
  },
  {
   "cell_type": "code",
   "execution_count": null,
   "metadata": {},
   "outputs": [],
   "source": [
    "raise NewError"
   ]
  },
  {
   "cell_type": "code",
   "execution_count": null,
   "metadata": {},
   "outputs": [],
   "source": [
    "raise NewError('oops')"
   ]
  },
  {
   "cell_type": "markdown",
   "metadata": {},
   "source": [
    "## Control Flow with Exceptions"
   ]
  },
  {
   "cell_type": "code",
   "execution_count": null,
   "metadata": {},
   "outputs": [],
   "source": [
    "def first(x):\n",
    "    try:\n",
    "        result = second(x, 2) + 1\n",
    "    except ZeroDivisionError:\n",
    "        print('program resumes in first')\n",
    "        result = 0\n",
    "    else:\n",
    "        print('success in first')\n",
    "    return result\n",
    "\n",
    "def second(a, b):\n",
    "    try:\n",
    "        result = b / a\n",
    "    except TypeError:\n",
    "        print('program resumes in second')\n",
    "        result = 10\n",
    "    else:\n",
    "        print('success in second')\n",
    "    return result\n"
   ]
  },
  {
   "cell_type": "markdown",
   "metadata": {},
   "source": [
    "# Context Managers"
   ]
  },
  {
   "cell_type": "markdown",
   "metadata": {},
   "source": [
    "## Implemeting a Context Manager as a Python Class"
   ]
  },
  {
   "cell_type": "code",
   "execution_count": null,
   "metadata": {},
   "outputs": [],
   "source": [
    "import time\n",
    "class Timer:\n",
    "\n",
    "    \"\"\"\n",
    "    A timer context manager that keeps track of the elapsed time\n",
    "    Arguments: None\n",
    "    Attributes: start_time (float): time when the context is entered\n",
    "    \"\"\"\n",
    "\n",
    "    def __enter__(self):\n",
    "        self.start_time = time.time()\n",
    "\n",
    "    def __exit__(self, exc_type, exc_value, traceback):\n",
    "        end_time = time.time()\n",
    "        print(f'Elapsed time = {end_time - self.start_time:.4f}s' )"
   ]
  },
  {
   "cell_type": "code",
   "execution_count": null,
   "metadata": {},
   "outputs": [],
   "source": [
    "with Timer():\n",
    "    for count in range(10000):\n",
    "        result = count ** 2\n",
    "    print('All done!')"
   ]
  },
  {
   "cell_type": "code",
   "execution_count": null,
   "metadata": {},
   "outputs": [],
   "source": [
    "class Account:\n",
    "\n",
    "    \"\"\"\n",
    "    Represent a bank account.\n",
    "\n",
    "    Argument:\n",
    "    account_holder (string): account holder's name.\n",
    "\n",
    "    Attributes:\n",
    "    holder (string): account holder's name.\n",
    "    balance (number): account balance in dollars.\n",
    "    \"\"\"\n",
    "\n",
    "    currency = '$' # class variable\n",
    "\n",
    "    def __init__(self, account_holder):\n",
    "        self.holder = account_holder\n",
    "        self.balance = 0\n",
    "\n",
    "    def deposit(self, amount):\n",
    "        \"\"\"\n",
    "        Deposit the given amount to the account.\n",
    "        :param amount: (number) the amount to be deposited in dollars.\n",
    "        \"\"\"\n",
    "        self.balance += amount\n",
    "\n",
    "    def withdraw(self, amount):\n",
    "        \"\"\"\n",
    "        Withdraw the specified amount from the account if possible.\n",
    "        :param amount: (number) the amount to be withdrawn in dollars.\n",
    "        :return: (boolean) True if the withdrawal is successful\n",
    "                False otherwise\n",
    "        \"\"\"\n",
    "        if self.balance >= amount:\n",
    "            self.balance = self.balance - amount\n",
    "            return True\n",
    "        else:\n",
    "            return False\n"
   ]
  },
  {
   "cell_type": "code",
   "execution_count": null,
   "metadata": {},
   "outputs": [],
   "source": [
    "import copy\n",
    "class Transaction:\n",
    "\n",
    "    \"\"\"\n",
    "    Transaction context manager to manage transactions on accounts.\n",
    "    A transaction is either entirely successful or rolled back (voided).\n",
    "    Argument:\n",
    "    account: Account object\n",
    "    \"\"\"\n",
    "\n",
    "    def __init__(self, account):\n",
    "        self.account = account\n",
    "\n",
    "    def __enter__(self):\n",
    "        self.working = copy.copy(self.account)\n",
    "        return self.working\n",
    "\n",
    "    def __exit__(self, exc_type, exc_value, traceback):\n",
    "        if exc_type is None:\n",
    "            self.account.balance = self.working.balance\n",
    "            print('Transaction complete.')\n",
    "        else:\n",
    "            print(f'{exc_value}: void transaction.')\n",
    "            return True"
   ]
  },
  {
   "cell_type": "code",
   "execution_count": null,
   "metadata": {},
   "outputs": [],
   "source": [
    "his_account = Account('Alex')\n",
    "with Transaction(his_account) as his:\n",
    "    # Check some info\n",
    "    his.deposit(20)\n",
    "    # Check some more info\n",
    "    his.deposit(30)"
   ]
  },
  {
   "cell_type": "code",
   "execution_count": null,
   "metadata": {},
   "outputs": [],
   "source": [
    "her_account = Account('Zoe')\n",
    "with Transaction(her_account) as hers:\n",
    "    # Check some info\n",
    "    hers.deposit(20)\n",
    "    # Check some more info\n",
    "    raise IOError('Unauthorized Access')\n",
    "    hers.deposit(30)"
   ]
  },
  {
   "cell_type": "markdown",
   "metadata": {},
   "source": [
    "## Implemeting a Context Manager with a Decorator"
   ]
  },
  {
   "cell_type": "code",
   "execution_count": null,
   "metadata": {},
   "outputs": [],
   "source": [
    "from contextlib import contextmanager"
   ]
  },
  {
   "cell_type": "code",
   "execution_count": null,
   "metadata": {},
   "outputs": [],
   "source": [
    "@contextmanager\n",
    "def timer():\n",
    "    \"\"\"\n",
    "    A timer context manager that keeps track of the elapsed time\n",
    "    \"\"\"\n",
    "    start_time = time.time()\n",
    "    try:\n",
    "        yield\n",
    "    finally:\n",
    "        end_time = time.time()\n",
    "        print(f'Elapsed time = {end_time - start_time:.4f}s')"
   ]
  },
  {
   "cell_type": "code",
   "execution_count": null,
   "metadata": {},
   "outputs": [],
   "source": [
    "with timer():\n",
    "    for count in range(10000):\n",
    "        result = count ** 2"
   ]
  },
  {
   "cell_type": "code",
   "execution_count": null,
   "metadata": {},
   "outputs": [],
   "source": [
    "@contextmanager\n",
    "def transaction(account):\n",
    "\n",
    "    \"\"\"\n",
    "    A transaction context manager to manage transactions on accounts.\n",
    "    :param account: Account object\n",
    "    :yield: Account working object\n",
    "    \"\"\"\n",
    "    working = copy.copy(account)\n",
    "    try:\n",
    "        yield working\n",
    "    except Exception as error:\n",
    "        print(f'{error}: void transaction.')\n",
    "    else:\n",
    "        account.balance = working.balance\n",
    "        print('Transaction complete.')"
   ]
  },
  {
   "cell_type": "code",
   "execution_count": null,
   "metadata": {},
   "outputs": [],
   "source": [
    "her_account = Account('Zoe')\n",
    "with transaction(her_account) as hers:\n",
    "    hers.deposit(20)\n",
    "    hers.deposit('hello')\n",
    "    hers.deposit(30)"
   ]
  },
  {
   "cell_type": "markdown",
   "metadata": {},
   "source": [
    "# Files\n",
    "The _with_ statement offers us a safer way to open and close files."
   ]
  },
  {
   "cell_type": "markdown",
   "metadata": {},
   "source": [
    "## Reading\n",
    "We can read the whole file into a single string with the read method."
   ]
  },
  {
   "cell_type": "code",
   "execution_count": null,
   "metadata": {},
   "outputs": [],
   "source": [
    "with open('parks.csv', 'r', encoding='UTF-8') as input_file:\n",
    "    all_parks = input_file.read()\n",
    "print(all_parks)"
   ]
  },
  {
   "cell_type": "markdown",
   "metadata": {},
   "source": [
    "We can read also the whole file into a list of strings with the _readlines_ method.  Each list item is a string that corresponds to a line in the file."
   ]
  },
  {
   "cell_type": "code",
   "execution_count": null,
   "metadata": {},
   "outputs": [],
   "source": [
    "with open('parks.csv', 'r', encoding='UTF-8') as input_file:\n",
    "    park_list = input_file.readlines()\n",
    "\n",
    "print(park_list)"
   ]
  },
  {
   "cell_type": "markdown",
   "metadata": {},
   "source": [
    "**Reading the whole file at once with the _read_ or _readlines_ methods is only feasible if the file is small enough.**\n",
    "\n",
    "For large files, we need to read them one line at a time.\n",
    "\n",
    "A file object is a sequence of items where each item is a line.\n",
    "We can iterate over the sequence with a for... in loop.  When we do, we get one line at a time.\n"
   ]
  },
  {
   "cell_type": "code",
   "execution_count": null,
   "metadata": {},
   "outputs": [],
   "source": [
    "with open('parks.csv', 'r', encoding='UTF-8') as input_file:\n",
    "    for each_line in input_file:\n",
    "        print(each_line)\n"
   ]
  },
  {
   "cell_type": "code",
   "execution_count": null,
   "metadata": {},
   "outputs": [],
   "source": [
    "with open('parks.csv', 'r', encoding='UTF-8') as input_file:\n",
    "    for each_line in input_file:\n",
    "        print(each_line.split(',')[1])\n"
   ]
  },
  {
   "cell_type": "markdown",
   "metadata": {},
   "source": [
    "Modify the code cell above to print only the park code column.\n",
    "Hint:  Use the _split_ method."
   ]
  },
  {
   "cell_type": "markdown",
   "metadata": {},
   "source": [
    "## Writing\n",
    "We can append to a file using the 'a' mode."
   ]
  },
  {
   "cell_type": "code",
   "execution_count": null,
   "metadata": {},
   "outputs": [],
   "source": [
    "with open('parks.csv', 'a', encoding='utf-8') as output_file:\n",
    "    output_file.write('I would like to visit all these parks!')"
   ]
  },
  {
   "cell_type": "markdown",
   "metadata": {},
   "source": [
    "In the code cell below, read and print the contents of the file."
   ]
  },
  {
   "cell_type": "code",
   "execution_count": null,
   "metadata": {},
   "outputs": [],
   "source": [
    "# Print the file content to see the effect of  the last write in 'a' mode."
   ]
  },
  {
   "cell_type": "markdown",
   "metadata": {},
   "source": [
    "We can also overwrite an existing file by using the 'w' mode:"
   ]
  },
  {
   "cell_type": "code",
   "execution_count": null,
   "metadata": {},
   "outputs": [],
   "source": [
    "with open('parks.csv', 'w', encoding='utf-8') as output_file:\n",
    "    output_file.write('Parks and more parks...')\n"
   ]
  },
  {
   "cell_type": "code",
   "execution_count": null,
   "metadata": {},
   "outputs": [],
   "source": [
    "# Print the file content to see the effect of  the last write in 'w' mode."
   ]
  },
  {
   "cell_type": "code",
   "execution_count": null,
   "metadata": {},
   "outputs": [],
   "source": [
    "with open('parks.csv', 'w', encoding='utf-8') as output_file:\n",
    "    pass"
   ]
  },
  {
   "cell_type": "code",
   "execution_count": null,
   "metadata": {},
   "outputs": [],
   "source": [
    "# Print the file content to see the effect of the last open in 'w' mode."
   ]
  },
  {
   "cell_type": "code",
   "execution_count": null,
   "metadata": {},
   "outputs": [],
   "source": [
    "with open('tomorrow.txt', 'w', encoding='utf-8') as new_file:\n",
    "    new_file.write('Tomorrow?')"
   ]
  },
  {
   "cell_type": "code",
   "execution_count": null,
   "metadata": {},
   "outputs": [],
   "source": [
    "with open('today.txt', 'x', encoding='utf-8') as new_file:\n",
    "    new_file.write('Today?')"
   ]
  },
  {
   "cell_type": "code",
   "execution_count": null,
   "metadata": {},
   "outputs": [],
   "source": [
    "with open('today.txt', 'x', encoding='utf-8') as new_file:\n",
    "    new_file.write('Today?')\n"
   ]
  },
  {
   "cell_type": "markdown",
   "metadata": {},
   "source": [
    "# Submit your work\n",
    "Before the end of the lecture, you will submit your work from the lab notebook.\n",
    "\n",
    "1. Make sure you have run all cells in your notebook first.\n",
    "\n",
    "2. Save your work by clicking on File at the top left of your screen, then Save and Checkpoint.  You may also click on the Save icon on the top left.\n",
    "\n",
    "3. Download it by clicking on File at the top left of your screen, then Download as ... Notebook (ipynb).\n",
    "\n",
    "4. Upload the downloaded  ipynb file to Canvas to submit your lab."
   ]
  }
 ],
 "metadata": {
  "kernelspec": {
   "display_name": "Python 3 (ipykernel)",
   "language": "python",
   "name": "python3"
  },
  "language_info": {
   "codemirror_mode": {
    "name": "ipython",
    "version": 3
   },
   "file_extension": ".py",
   "mimetype": "text/x-python",
   "name": "python",
   "nbconvert_exporter": "python",
   "pygments_lexer": "ipython3",
   "version": "3.7.8"
  }
 },
 "nbformat": 4,
 "nbformat_minor": 1
}
